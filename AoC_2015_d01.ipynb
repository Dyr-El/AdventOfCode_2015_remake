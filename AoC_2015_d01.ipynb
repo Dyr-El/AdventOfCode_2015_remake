{
 "cells": [
  {
   "cell_type": "markdown",
   "id": "cdf9ff12",
   "metadata": {},
   "source": [
    "# Day 2015_01: Not Quite Lisp"
   ]
  },
  {
   "cell_type": "code",
   "execution_count": 1,
   "id": "b7f91506",
   "metadata": {},
   "outputs": [],
   "source": [
    "year = 2015\n",
    "day  = 1"
   ]
  },
  {
   "cell_type": "code",
   "execution_count": 2,
   "id": "c39bea1b",
   "metadata": {},
   "outputs": [
    {
     "name": "stdout",
     "output_type": "stream",
     "text": [
      "Reading [https://adventofcode.com/2015/day/1/input]\n",
      " With proxy: [https: http://proxyseso.scania.com:8080]\n",
      " With proxy: [http: http://proxyseso.scania.com:8080]\n",
      "7000 characters read.\n",
      "[()(((()))(()()()((((()(((())(()(()((((((()(()(((())))((()(((()))((())(()((()()()()(((())(((((((())))...]\n"
     ]
    }
   ],
   "source": [
    "from local_settings import load_input\n",
    "content = load_input(year, day)\n",
    "print(f\"[{content[:100]}...]\")"
   ]
  },
  {
   "cell_type": "markdown",
   "id": "5259964f",
   "metadata": {},
   "source": [
    "# Part 1"
   ]
  },
  {
   "cell_type": "code",
   "execution_count": 3,
   "id": "275025e2",
   "metadata": {},
   "outputs": [],
   "source": [
    "def countFloor(s):\n",
    "    return s.count('(') - s.count(')')"
   ]
  },
  {
   "cell_type": "markdown",
   "id": "41a63fda",
   "metadata": {},
   "source": [
    "```\n",
    "(()) and ()() both result in floor 0.\n",
    "((( and (()(()( both result in floor 3.\n",
    "))((((( also results in floor 3.\n",
    "()) and ))( both result in floor -1 (the first basement level).\n",
    "))) and )())()) both result in floor -3.\n",
    "```"
   ]
  },
  {
   "cell_type": "code",
   "execution_count": 4,
   "id": "7d88f849",
   "metadata": {},
   "outputs": [
    {
     "name": "stdout",
     "output_type": "stream",
     "text": [
      "0 0\n",
      "3 3\n",
      "3\n",
      "-1 -1\n",
      "-3 -3\n"
     ]
    }
   ],
   "source": [
    "print(countFloor('(())'), countFloor('()()'))\n",
    "print(countFloor('((('), countFloor('(()(()('))\n",
    "print(countFloor('))((((('))\n",
    "print(countFloor('())'), countFloor('))('))\n",
    "print(countFloor(')))'), countFloor(')())())'))"
   ]
  },
  {
   "cell_type": "code",
   "execution_count": 5,
   "id": "13d6f58e",
   "metadata": {},
   "outputs": [
    {
     "name": "stdout",
     "output_type": "stream",
     "text": [
      "138\n"
     ]
    }
   ],
   "source": [
    "print(countFloor(content))"
   ]
  },
  {
   "cell_type": "markdown",
   "id": "c9143156",
   "metadata": {},
   "source": [
    "# Part 2"
   ]
  },
  {
   "cell_type": "code",
   "execution_count": 6,
   "id": "399b79af",
   "metadata": {},
   "outputs": [],
   "source": [
    "def intoBasement(s):\n",
    "    pos = 0\n",
    "    for ci, c in enumerate(s, start=1):\n",
    "        pos += {'(':1, ')':-1}.get(c, 0)\n",
    "        if pos < 0:\n",
    "            return ci\n",
    "    return 0"
   ]
  },
  {
   "cell_type": "markdown",
   "id": "22d3165d",
   "metadata": {},
   "source": [
    "```\n",
    ") causes him to enter the basement at character position 1.\n",
    "()()) causes him to enter the basement at character position 5.\n",
    "```"
   ]
  },
  {
   "cell_type": "code",
   "execution_count": 7,
   "id": "c01b0658",
   "metadata": {},
   "outputs": [
    {
     "name": "stdout",
     "output_type": "stream",
     "text": [
      "1\n",
      "5\n"
     ]
    }
   ],
   "source": [
    "print(intoBasement(')'))\n",
    "print(intoBasement('()())'))"
   ]
  },
  {
   "cell_type": "code",
   "execution_count": 8,
   "id": "22e75f5c",
   "metadata": {},
   "outputs": [
    {
     "name": "stdout",
     "output_type": "stream",
     "text": [
      "1771\n"
     ]
    }
   ],
   "source": [
    "print(intoBasement(content))"
   ]
  }
 ],
 "metadata": {
  "kernelspec": {
   "display_name": "Python 3.9.12 ('base')",
   "language": "python",
   "name": "python3"
  },
  "language_info": {
   "codemirror_mode": {
    "name": "ipython",
    "version": 3
   },
   "file_extension": ".py",
   "mimetype": "text/x-python",
   "name": "python",
   "nbconvert_exporter": "python",
   "pygments_lexer": "ipython3",
   "version": "3.9.12"
  },
  "vscode": {
   "interpreter": {
    "hash": "26b41e701b9231918f8329cfe003d300e3582e92b2efa9bd361dfdb186f62974"
   }
  }
 },
 "nbformat": 4,
 "nbformat_minor": 5
}
