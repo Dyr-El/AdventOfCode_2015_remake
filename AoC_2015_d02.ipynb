{
 "cells": [
  {
   "cell_type": "markdown",
   "id": "0f863bc7",
   "metadata": {},
   "source": [
    "# Day 2015_02: I Was Told There Would Be No Math"
   ]
  },
  {
   "cell_type": "code",
   "execution_count": null,
   "id": "e7ba6dbf",
   "metadata": {},
   "outputs": [],
   "source": [
    "year = 2015\n",
    "day  = 2"
   ]
  },
  {
   "cell_type": "code",
   "execution_count": null,
   "id": "93f010b0",
   "metadata": {},
   "outputs": [],
   "source": [
    "from local_settings import load_input\n",
    "content = load_input(year, day)\n",
    "print(f\"[{content[:100]}...]\")"
   ]
  },
  {
   "cell_type": "markdown",
   "id": "ee4d99ce",
   "metadata": {},
   "source": [
    "# Part 1"
   ]
  },
  {
   "cell_type": "code",
   "execution_count": null,
   "id": "d7d06e94",
   "metadata": {},
   "outputs": [],
   "source": [
    "def parseParsels(s):\n",
    "    for line in s.splitlines():\n",
    "        yield tuple(map(int, line.split('x')))"
   ]
  },
  {
   "cell_type": "code",
   "execution_count": null,
   "id": "1547792e",
   "metadata": {},
   "outputs": [],
   "source": [
    "def paperNeeded(l, w, h):\n",
    "    return (l * w + l * h + w * h) * 2 + min(l * w, l * h, w * h)"
   ]
  },
  {
   "cell_type": "markdown",
   "id": "c0318a99",
   "metadata": {},
   "source": [
    "## Examples:\n",
    "```\n",
    "A present with dimensions 2x3x4 requires 2*6 + 2*12 + 2*8 = 52 square feet of wrapping paper plus 6 square feet of slack, for a total of 58 square feet.\n",
    "A present with dimensions 1x1x10 requires 2*1 + 2*10 + 2*10 = 42 square feet of wrapping paper plus 1 square foot of slack, for a total of 43 square feet.\n",
    "```"
   ]
  },
  {
   "cell_type": "code",
   "execution_count": null,
   "id": "fe5e2186",
   "metadata": {},
   "outputs": [],
   "source": [
    "print(paperNeeded(2, 3, 4))\n",
    "print(paperNeeded(1, 1, 10))"
   ]
  },
  {
   "cell_type": "code",
   "execution_count": null,
   "id": "c1d9f8cc",
   "metadata": {},
   "outputs": [],
   "source": [
    "print(sum((paperNeeded(l, w, h) for l, w, h in parseParsels(content))))"
   ]
  },
  {
   "cell_type": "markdown",
   "id": "63f34142",
   "metadata": {},
   "source": [
    "# Part 2"
   ]
  },
  {
   "cell_type": "code",
   "execution_count": null,
   "id": "c0017bfa",
   "metadata": {},
   "outputs": [],
   "source": [
    "def ribbonNeeded(l, w, h):\n",
    "    return 2 * min((l + w), (l + h), (w + h)) + l * w * h"
   ]
  },
  {
   "cell_type": "markdown",
   "id": "97b69930",
   "metadata": {},
   "source": [
    "## Examples:\n",
    "```\n",
    "A present with dimensions 2x3x4 requires 2+2+3+3 = 10 feet of ribbon to wrap the present plus 2*3*4 = 24 feet of ribbon for the bow, for a total of 34 feet.\n",
    "A present with dimensions 1x1x10 requires 1+1+1+1 = 4 feet of ribbon to wrap the present plus 1*1*10 = 10 feet of ribbon for the bow, for a total of 14 feet.\n",
    "```"
   ]
  },
  {
   "cell_type": "code",
   "execution_count": null,
   "id": "00fa80fb",
   "metadata": {},
   "outputs": [],
   "source": [
    "print(ribbonNeeded(2, 3, 4))\n",
    "print(ribbonNeeded(1, 1, 10))"
   ]
  },
  {
   "cell_type": "code",
   "execution_count": null,
   "id": "82d8c758",
   "metadata": {},
   "outputs": [],
   "source": [
    "print(sum((ribbonNeeded(l, w, h) for l, w, h in parseParsels(content))))"
   ]
  }
 ],
 "metadata": {
  "kernelspec": {
   "display_name": "Python 3.9.12 ('base')",
   "language": "python",
   "name": "python3"
  },
  "language_info": {
   "codemirror_mode": {
    "name": "ipython",
    "version": 3
   },
   "file_extension": ".py",
   "mimetype": "text/x-python",
   "name": "python",
   "nbconvert_exporter": "python",
   "pygments_lexer": "ipython3",
   "version": "3.9.12"
  },
  "vscode": {
   "interpreter": {
    "hash": "26b41e701b9231918f8329cfe003d300e3582e92b2efa9bd361dfdb186f62974"
   }
  }
 },
 "nbformat": 4,
 "nbformat_minor": 5
}
