{
 "cells": [
  {
   "cell_type": "markdown",
   "id": "0f863bc7",
   "metadata": {},
   "source": [
    "# Day 2015_03: Perfectly Spherical Houses in a Vacuum"
   ]
  },
  {
   "cell_type": "code",
   "execution_count": 1,
   "id": "e7ba6dbf",
   "metadata": {},
   "outputs": [],
   "source": [
    "year = 2015\n",
    "day  = 3"
   ]
  },
  {
   "cell_type": "code",
   "execution_count": 2,
   "id": "93f010b0",
   "metadata": {},
   "outputs": [
    {
     "name": "stdout",
     "output_type": "stream",
     "text": [
      "Reading [https://adventofcode.com/2015/day/3/input]\n",
      " With proxy: [https: http://proxyseso.scania.com:8080]\n",
      " With proxy: [http: http://proxyseso.scania.com:8080]\n",
      "8192 characters read.\n",
      "[^><^>>>^<^v<v^^vv^><<^<><<vv^<>^<^v>^vv<>v><vv^^<>>^^^v<<vv><<^>^<^v<^>^v><<<v^<v<<<v<<vv<v<^><^>><>...]\n"
     ]
    }
   ],
   "source": [
    "from local_settings import load_input\n",
    "content = load_input(year, day)\n",
    "print(f\"[{content[:100]}...]\")"
   ]
  },
  {
   "cell_type": "markdown",
   "id": "ee4d99ce",
   "metadata": {},
   "source": [
    "# Part 1"
   ]
  },
  {
   "cell_type": "code",
   "execution_count": 3,
   "id": "2b43f46e",
   "metadata": {},
   "outputs": [],
   "source": [
    "from itertools import accumulate\n",
    "def positions(s):\n",
    "    x_move = [{'<':-1, '>':1}.get(c, 0) for c in s]\n",
    "    y_move = [{'^':-1, 'v':1}.get(c, 0) for c in s]\n",
    "    return set(((x, y) for x, y in zip(accumulate(x_move), accumulate(y_move)))) | {(0, 0)}"
   ]
  },
  {
   "cell_type": "markdown",
   "id": "e749ac16",
   "metadata": {},
   "source": [
    "## Examples:\n",
    "```\n",
    "> delivers presents to 2 houses: one at the starting location, and one to the east.\n",
    "^>v< delivers presents to 4 houses in a square, including twice to the house at his starting/ending location.\n",
    "^v^v^v^v^v delivers a bunch of presents to some very lucky children at only 2 houses.\n",
    "```"
   ]
  },
  {
   "cell_type": "code",
   "execution_count": 4,
   "id": "6a6a75c8",
   "metadata": {},
   "outputs": [
    {
     "name": "stdout",
     "output_type": "stream",
     "text": [
      "2\n",
      "4\n",
      "2\n"
     ]
    }
   ],
   "source": [
    "print(len(positions('>')))\n",
    "print(len(positions('^>v<')))\n",
    "print(len(positions('^v^v^v^v^v')))"
   ]
  },
  {
   "cell_type": "code",
   "execution_count": 5,
   "id": "b61e40e1",
   "metadata": {},
   "outputs": [
    {
     "name": "stdout",
     "output_type": "stream",
     "text": [
      "2081\n"
     ]
    }
   ],
   "source": [
    "print(len(positions(content)))"
   ]
  },
  {
   "cell_type": "markdown",
   "id": "63f34142",
   "metadata": {},
   "source": [
    "# Part 2"
   ]
  },
  {
   "cell_type": "code",
   "execution_count": 6,
   "id": "994f826c",
   "metadata": {},
   "outputs": [],
   "source": [
    "def splitPositions(s):\n",
    "    return positions(s[0::2]) | positions(s[1::2])"
   ]
  },
  {
   "cell_type": "markdown",
   "id": "380d3358",
   "metadata": {},
   "source": [
    "## Examples:\n",
    "```\n",
    "^v delivers presents to 3 houses, because Santa goes north, and then Robo-Santa goes south.\n",
    "^>v< now delivers presents to 3 houses, and Santa and Robo-Santa end up back where they started.\n",
    "^v^v^v^v^v now delivers presents to 11 houses, with Santa going one direction and Robo-Santa going the other.\n",
    "```"
   ]
  },
  {
   "cell_type": "code",
   "execution_count": 7,
   "id": "1f16de0e",
   "metadata": {},
   "outputs": [
    {
     "name": "stdout",
     "output_type": "stream",
     "text": [
      "3\n",
      "3\n",
      "11\n"
     ]
    }
   ],
   "source": [
    "print(len(splitPositions('^v')))\n",
    "print(len(splitPositions('^>v<')))\n",
    "print(len(splitPositions('^v^v^v^v^v')))"
   ]
  },
  {
   "cell_type": "code",
   "execution_count": 8,
   "id": "be29b27d",
   "metadata": {},
   "outputs": [
    {
     "name": "stdout",
     "output_type": "stream",
     "text": [
      "2341\n"
     ]
    }
   ],
   "source": [
    "print(len(splitPositions(content)))"
   ]
  }
 ],
 "metadata": {
  "kernelspec": {
   "display_name": "Python 3.9.12 ('base')",
   "language": "python",
   "name": "python3"
  },
  "language_info": {
   "codemirror_mode": {
    "name": "ipython",
    "version": 3
   },
   "file_extension": ".py",
   "mimetype": "text/x-python",
   "name": "python",
   "nbconvert_exporter": "python",
   "pygments_lexer": "ipython3",
   "version": "3.9.12"
  },
  "vscode": {
   "interpreter": {
    "hash": "26b41e701b9231918f8329cfe003d300e3582e92b2efa9bd361dfdb186f62974"
   }
  }
 },
 "nbformat": 4,
 "nbformat_minor": 5
}
