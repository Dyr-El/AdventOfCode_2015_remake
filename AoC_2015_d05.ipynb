{
 "cells": [
  {
   "cell_type": "markdown",
   "id": "0f863bc7",
   "metadata": {},
   "source": [
    "# Day 2015_05: Doesn't He Have Intern-Elves For This?"
   ]
  },
  {
   "cell_type": "code",
   "execution_count": null,
   "id": "e7ba6dbf",
   "metadata": {},
   "outputs": [],
   "source": [
    "year = 2015\n",
    "day  = 5"
   ]
  },
  {
   "cell_type": "code",
   "execution_count": null,
   "id": "93f010b0",
   "metadata": {},
   "outputs": [],
   "source": [
    "from local_settings import load_input\n",
    "content = load_input(year, day)\n",
    "print(f\"[{content[:100]}...]\")"
   ]
  },
  {
   "cell_type": "markdown",
   "id": "ee4d99ce",
   "metadata": {},
   "source": [
    "# Part 1"
   ]
  },
  {
   "cell_type": "code",
   "execution_count": null,
   "id": "0db0d234",
   "metadata": {},
   "outputs": [],
   "source": [
    "def niceString(s):\n",
    "    if sum((c in 'aeiou' for c in s)) < 3:\n",
    "        return False\n",
    "    if not any((s.count(c+c) > 0 for c in s)):\n",
    "        return False\n",
    "    if any((x in s for x in ('ab', 'cd', 'pq', 'xy'))):\n",
    "        return False\n",
    "    return True"
   ]
  },
  {
   "cell_type": "markdown",
   "id": "e749ac16",
   "metadata": {},
   "source": [
    "## Examples:\n",
    "```\n",
    "ugknbfddgicrmopn is nice because it has at least three vowels (u...i...o...), a double letter (...dd...), and none of the disallowed substrings.\n",
    "aaa is nice because it has at least three vowels and a double letter, even though the letters used by different rules overlap.\n",
    "jchzalrnumimnmhp is naughty because it has no double letter.\n",
    "haegwjzuvuyypxyu is naughty because it contains the string xy.\n",
    "dvszwmarrgswjxmb is naughty because it contains only one vowel.\n",
    "```"
   ]
  },
  {
   "cell_type": "code",
   "execution_count": null,
   "id": "c61bef5d",
   "metadata": {},
   "outputs": [],
   "source": [
    "print(niceString(\"ugknbfddgicrmopn\"))\n",
    "print(niceString(\"aaa\"))\n",
    "print(niceString(\"jchzalrnumimnmhp\"))\n",
    "print(niceString(\"haegwjzuvuyypxyu\"))\n",
    "print(niceString(\"dvszwmarrgswjxmb\"))"
   ]
  },
  {
   "cell_type": "code",
   "execution_count": null,
   "id": "e70ec8f0",
   "metadata": {},
   "outputs": [],
   "source": [
    "print(sum((niceString(s) for s in content.splitlines())))"
   ]
  },
  {
   "cell_type": "markdown",
   "id": "63f34142",
   "metadata": {},
   "source": [
    "# Part 2"
   ]
  },
  {
   "cell_type": "code",
   "execution_count": null,
   "id": "3921be65",
   "metadata": {},
   "outputs": [],
   "source": [
    "def niceString2(s):\n",
    "    if not any((s.count(c1+c2)>1 for c1, c2 in zip(s, s[1:]))):\n",
    "        return False\n",
    "    if not any((c1 == c2 for c1, c2 in zip(s, s[2:]))):\n",
    "        return False\n",
    "    return True"
   ]
  },
  {
   "cell_type": "markdown",
   "id": "380d3358",
   "metadata": {},
   "source": [
    "## Examples:\n",
    "```\n",
    "qjhvhtzxzqqjkmpb is nice because is has a pair that appears twice (qj) and a letter that repeats with exactly one letter between them (zxz).\n",
    "xxyxx is nice because it has a pair that appears twice and a letter that repeats with one between, even though the letters used by each rule overlap.\n",
    "uurcxstgmygtbstg is naughty because it has a pair (tg) but no repeat with a single letter between them.\n",
    "ieodomkazucvgmuy is naughty because it has a repeating letter with one between (odo), but no pair that appears twice.\n",
    "```"
   ]
  },
  {
   "cell_type": "code",
   "execution_count": null,
   "id": "34d30394",
   "metadata": {},
   "outputs": [],
   "source": [
    "print(niceString2(\"qjhvhtzxzqqjkmpb\"))\n",
    "print(niceString2(\"xxyxx\"))\n",
    "print(niceString2(\"uurcxstgmygtbstg\"))\n",
    "print(niceString2(\"ieodomkazucvgmuy\"))"
   ]
  },
  {
   "cell_type": "code",
   "execution_count": null,
   "id": "0620301b",
   "metadata": {},
   "outputs": [],
   "source": [
    "print(sum((niceString2(s) for s in content.splitlines())))"
   ]
  }
 ],
 "metadata": {
  "kernelspec": {
   "display_name": "Python 3.9.12 ('base')",
   "language": "python",
   "name": "python3"
  },
  "language_info": {
   "codemirror_mode": {
    "name": "ipython",
    "version": 3
   },
   "file_extension": ".py",
   "mimetype": "text/x-python",
   "name": "python",
   "nbconvert_exporter": "python",
   "pygments_lexer": "ipython3",
   "version": "3.9.12"
  },
  "vscode": {
   "interpreter": {
    "hash": "26b41e701b9231918f8329cfe003d300e3582e92b2efa9bd361dfdb186f62974"
   }
  }
 },
 "nbformat": 4,
 "nbformat_minor": 5
}
