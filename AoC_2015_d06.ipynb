{
 "cells": [
  {
   "cell_type": "markdown",
   "id": "0f863bc7",
   "metadata": {},
   "source": [
    "# Day 2015_06: Probably a Fire Hazard"
   ]
  },
  {
   "cell_type": "code",
   "execution_count": null,
   "id": "e7ba6dbf",
   "metadata": {},
   "outputs": [],
   "source": [
    "year = 2015\n",
    "day  = 6"
   ]
  },
  {
   "cell_type": "code",
   "execution_count": null,
   "id": "93f010b0",
   "metadata": {},
   "outputs": [],
   "source": [
    "from local_settings import load_input\n",
    "content = load_input(year, day)\n",
    "print(f\"[{content[:100]}...]\")"
   ]
  },
  {
   "cell_type": "markdown",
   "id": "ee4d99ce",
   "metadata": {},
   "source": [
    "# Part 1"
   ]
  },
  {
   "cell_type": "code",
   "execution_count": null,
   "id": "21b3e10f",
   "metadata": {},
   "outputs": [],
   "source": [
    "def parseInstructions(inp):\n",
    "    for s in inp.splitlines():\n",
    "        tokens = tuple(s.split())\n",
    "        if tokens[0] == 'turn':\n",
    "            tokens = tokens[1:]\n",
    "        pos1 = tuple(map(int, tokens[1].split(',')))        \n",
    "        pos2 = tuple(map(int, tokens[3].split(',')))\n",
    "        yield tokens[0], pos1, pos2"
   ]
  },
  {
   "cell_type": "code",
   "execution_count": null,
   "id": "52548820",
   "metadata": {},
   "outputs": [],
   "source": [
    "def toggle(array, pos1, pos2):\n",
    "    for x in range(pos1[0], pos2[0] + 1):\n",
    "        for y in range(pos1[1], pos2[1] + 1):\n",
    "            array[(x, y)] = not array.get((x, y), False)\n",
    "\n",
    "def turnOn(array, pos1, pos2):\n",
    "    for x in range(pos1[0], pos2[0] + 1):\n",
    "        for y in range(pos1[1], pos2[1] + 1):\n",
    "            array[(x, y)] = True\n",
    "\n",
    "def turnOff(array, pos1, pos2):\n",
    "    for x in range(pos1[0], pos2[0] + 1):\n",
    "        for y in range(pos1[1], pos2[1] + 1):\n",
    "            array[(x, y)] = False\n",
    "\n",
    "instrFunc = {\"toggle\":toggle, \"on\":turnOn, \"off\":turnOff}"
   ]
  },
  {
   "cell_type": "code",
   "execution_count": null,
   "id": "17f02297",
   "metadata": {},
   "outputs": [],
   "source": [
    "lightArray = dict()\n",
    "for instr, pos1, pos2 in parseInstructions(content):\n",
    "    instrFunc[instr](lightArray, pos1, pos2)\n",
    "print(sum(lightArray.values()))"
   ]
  },
  {
   "cell_type": "markdown",
   "id": "e749ac16",
   "metadata": {},
   "source": [
    "## Examples:\n",
    "```\n",
    "turn on 0,0 through 999,999 would turn on (or leave on) every light.\n",
    "toggle 0,0 through 999,0 would toggle the first line of 1000 lights, turning off the ones that were on, and turning on the ones that were off.\n",
    "turn off 499,499 through 500,500 would turn off (or leave off) the middle four lights.\n",
    "```"
   ]
  },
  {
   "cell_type": "code",
   "execution_count": null,
   "id": "80411115",
   "metadata": {},
   "outputs": [],
   "source": [
    "array = dict()\n",
    "turnOn(array, (0,0), (999,999))\n",
    "print(sum(array.values()))\n",
    "array = dict()\n",
    "turnOn(array, (0,0), (999,0))\n",
    "print(sum(array.values()))\n",
    "array = dict()\n",
    "turnOn(array, (499,499), (500,500))\n",
    "print(sum(array.values()))"
   ]
  },
  {
   "cell_type": "markdown",
   "id": "63f34142",
   "metadata": {},
   "source": [
    "# Part 2"
   ]
  },
  {
   "cell_type": "code",
   "execution_count": null,
   "id": "11fa8acd",
   "metadata": {},
   "outputs": [],
   "source": [
    "def toggle2(array, pos1, pos2):\n",
    "    for x in range(pos1[0], pos2[0] + 1):\n",
    "        for y in range(pos1[1], pos2[1] + 1):\n",
    "            array[(x, y)] = array.get((x, y), 0) + 2\n",
    "\n",
    "def turnOn2(array, pos1, pos2):\n",
    "    for x in range(pos1[0], pos2[0] + 1):\n",
    "        for y in range(pos1[1], pos2[1] + 1):\n",
    "            array[(x, y)] = array.get((x, y), 0) + 1\n",
    "\n",
    "def turnOff2(array, pos1, pos2):\n",
    "    for x in range(pos1[0], pos2[0] + 1):\n",
    "        for y in range(pos1[1], pos2[1] + 1):\n",
    "            array[(x, y)] = max(0, array.get((x, y), 0) - 1)\n",
    "\n",
    "instrFunc2 = {\"toggle\":toggle2, \"on\":turnOn2, \"off\":turnOff2}"
   ]
  },
  {
   "cell_type": "markdown",
   "id": "380d3358",
   "metadata": {},
   "source": [
    "## Examples:\n",
    "```\n",
    "turn on 0,0 through 0,0 would increase the total brightness by 1.\n",
    "toggle 0,0 through 999,999 would increase the total brightness by 2000000.\n",
    "```"
   ]
  },
  {
   "cell_type": "code",
   "execution_count": null,
   "id": "1a411d2a",
   "metadata": {},
   "outputs": [],
   "source": [
    "array = dict()\n",
    "turnOn2(array, (0,0), (0,0))\n",
    "print(sum(array.values()))\n",
    "array = dict()\n",
    "toggle2(array, (0,0), (999,999))\n",
    "print(sum(array.values()))"
   ]
  },
  {
   "cell_type": "code",
   "execution_count": null,
   "id": "dc64f263",
   "metadata": {},
   "outputs": [],
   "source": [
    "lightArray = dict()\n",
    "for instr, pos1, pos2 in parseInstructions(content):\n",
    "    instrFunc2[instr](lightArray, pos1, pos2)\n",
    "print(sum(lightArray.values()))"
   ]
  }
 ],
 "metadata": {
  "kernelspec": {
   "display_name": "Python 3.9.12 ('base')",
   "language": "python",
   "name": "python3"
  },
  "language_info": {
   "codemirror_mode": {
    "name": "ipython",
    "version": 3
   },
   "file_extension": ".py",
   "mimetype": "text/x-python",
   "name": "python",
   "nbconvert_exporter": "python",
   "pygments_lexer": "ipython3",
   "version": "3.9.12"
  },
  "vscode": {
   "interpreter": {
    "hash": "26b41e701b9231918f8329cfe003d300e3582e92b2efa9bd361dfdb186f62974"
   }
  }
 },
 "nbformat": 4,
 "nbformat_minor": 5
}
