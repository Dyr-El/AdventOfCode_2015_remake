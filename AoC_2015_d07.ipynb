{
 "cells": [
  {
   "cell_type": "markdown",
   "id": "0f863bc7",
   "metadata": {},
   "source": [
    "# Day 2015_07: Some Assembly Required"
   ]
  },
  {
   "cell_type": "code",
   "execution_count": 1,
   "id": "e7ba6dbf",
   "metadata": {},
   "outputs": [],
   "source": [
    "year = 2015\n",
    "day  = 7"
   ]
  },
  {
   "cell_type": "code",
   "execution_count": 2,
   "id": "93f010b0",
   "metadata": {},
   "outputs": [
    {
     "name": "stdout",
     "output_type": "stream",
     "text": [
      "Reading [https://adventofcode.com/2015/day/7/input]\n",
      " With proxy: [https: http://proxyseso.scania.com:8080]\n",
      " With proxy: [http: http://proxyseso.scania.com:8080]\n",
      "5304 characters read.\n",
      "[af AND ah -> ai\n",
      "NOT lk -> ll\n",
      "hz RSHIFT 1 -> is\n",
      "NOT go -> gp\n",
      "du OR dt -> dv\n",
      "x RSHIFT 5 -> aa\n",
      "at OR az...]\n"
     ]
    }
   ],
   "source": [
    "from local_settings import load_input\n",
    "content = load_input(year, day)\n",
    "print(f\"[{content[:100]}...]\")"
   ]
  },
  {
   "cell_type": "markdown",
   "id": "ee4d99ce",
   "metadata": {},
   "source": [
    "# Part 1"
   ]
  },
  {
   "cell_type": "code",
   "execution_count": 3,
   "id": "55e1a643",
   "metadata": {},
   "outputs": [],
   "source": [
    "def parseCircuit(s):\n",
    "    for wire in s.splitlines():\n",
    "        tokens = tuple(wire.split())\n",
    "        destination = tokens[-1]\n",
    "        if tokens[0] == 'NOT':\n",
    "            yield destination, tokens[0], tokens[1], None\n",
    "        elif tokens[1] == '->':\n",
    "            yield destination, \"ASSIGN\", tokens[0], None\n",
    "        else:\n",
    "            yield destination, tokens[1], tokens[0], tokens[2]\n",
    "            \n",
    "operations = {\"AND\":lambda x, y:x & y,\n",
    "              \"OR\": lambda x, y:x | y,\n",
    "              \"NOT\": lambda x, y: 0xFFFF - x,\n",
    "              \"LSHIFT\": lambda x, y: (x << y) & 0xFFFF,\n",
    "              \"RSHIFT\": lambda x, y: (x >> y) & 0xFFFF,\n",
    "              \"ASSIGN\": lambda x, y: x}\n",
    "\n",
    "def setupCircuit(s):\n",
    "    circuit = dict()\n",
    "    for dest, op, arg1, arg2 in parseCircuit(s):\n",
    "        op = operations[op]\n",
    "        if arg1.isdecimal():\n",
    "            arg1 = int(arg1)\n",
    "        if arg2 is not None and arg2.isdecimal():\n",
    "            arg2 = int(arg2)\n",
    "        if dest in circuit:\n",
    "            print(\"Overwrite!\", dest)\n",
    "        circuit[dest] = (op, arg1, arg2)\n",
    "    return circuit\n",
    "\n",
    "def iterCircuit(circuit, goal):\n",
    "    while not isinstance(circuit[goal], int):\n",
    "        nextCircuit = dict()\n",
    "        for dest, value in circuit.items():\n",
    "            if isinstance(value, int):\n",
    "                nextCircuit[dest] = value\n",
    "                continue\n",
    "            op, arg1, arg2 = value\n",
    "            if isinstance(arg1, str):\n",
    "                if isinstance(circuit[arg1], int):\n",
    "                    arg1 = circuit[arg1]\n",
    "            if isinstance(arg2, str):\n",
    "                if isinstance(circuit[arg2], int):\n",
    "                    arg2 = circuit[arg2]\n",
    "            if isinstance(arg1, int) and (arg2 is None or isinstance(arg2, int)):\n",
    "                nextCircuit[dest] = op(arg1, arg2)\n",
    "            else:\n",
    "                nextCircuit[dest] = (op, arg1, arg2)\n",
    "        circuit = nextCircuit\n",
    "    return circuit"
   ]
  },
  {
   "cell_type": "markdown",
   "id": "e749ac16",
   "metadata": {},
   "source": [
    "## Examples:\n",
    "```\n",
    "123 -> x\n",
    "456 -> y\n",
    "x AND y -> d\n",
    "x OR y -> e\n",
    "x LSHIFT 2 -> f\n",
    "y RSHIFT 2 -> g\n",
    "NOT x -> h\n",
    "NOT y -> i\n",
    "```"
   ]
  },
  {
   "cell_type": "code",
   "execution_count": 4,
   "id": "ed5dd379",
   "metadata": {},
   "outputs": [
    {
     "name": "stdout",
     "output_type": "stream",
     "text": [
      "x: 123\n",
      "y: 456\n",
      "d: 72\n",
      "e: 507\n",
      "f: 492\n",
      "g: 114\n",
      "h: 65412\n",
      "i: 65079\n"
     ]
    }
   ],
   "source": [
    "example = \"\"\"123 -> x\n",
    "456 -> y\n",
    "x AND y -> d\n",
    "x OR y -> e\n",
    "x LSHIFT 2 -> f\n",
    "y RSHIFT 2 -> g\n",
    "NOT x -> h\n",
    "NOT y -> i\"\"\"\n",
    "circuit = setupCircuit(example)\n",
    "circuit = iterCircuit(circuit, 'i')\n",
    "for key, value in circuit.items():\n",
    "    print(f\"{key}: {value}\")"
   ]
  },
  {
   "cell_type": "code",
   "execution_count": 5,
   "id": "aedec686",
   "metadata": {},
   "outputs": [
    {
     "name": "stdout",
     "output_type": "stream",
     "text": [
      "956\n"
     ]
    }
   ],
   "source": [
    "circuit = setupCircuit(content)\n",
    "circuit = iterCircuit(circuit, 'a')\n",
    "print(circuit['a'])"
   ]
  },
  {
   "cell_type": "markdown",
   "id": "63f34142",
   "metadata": {},
   "source": [
    "# Part 2"
   ]
  },
  {
   "cell_type": "markdown",
   "id": "380d3358",
   "metadata": {},
   "source": [
    "## Examples:\n",
    "```\n",
    "```"
   ]
  },
  {
   "cell_type": "code",
   "execution_count": 6,
   "id": "22af3616",
   "metadata": {},
   "outputs": [
    {
     "name": "stdout",
     "output_type": "stream",
     "text": [
      "40149\n"
     ]
    }
   ],
   "source": [
    "circuit = setupCircuit(content)\n",
    "circuit['b'] = 956\n",
    "circuit = iterCircuit(circuit, 'a')\n",
    "print(circuit['a'])"
   ]
  }
 ],
 "metadata": {
  "kernelspec": {
   "display_name": "Python 3.9.12 ('base')",
   "language": "python",
   "name": "python3"
  },
  "language_info": {
   "codemirror_mode": {
    "name": "ipython",
    "version": 3
   },
   "file_extension": ".py",
   "mimetype": "text/x-python",
   "name": "python",
   "nbconvert_exporter": "python",
   "pygments_lexer": "ipython3",
   "version": "3.9.12"
  },
  "vscode": {
   "interpreter": {
    "hash": "26b41e701b9231918f8329cfe003d300e3582e92b2efa9bd361dfdb186f62974"
   }
  }
 },
 "nbformat": 4,
 "nbformat_minor": 5
}
