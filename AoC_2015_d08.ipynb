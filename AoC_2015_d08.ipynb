{
 "cells": [
  {
   "cell_type": "markdown",
   "id": "0f863bc7",
   "metadata": {},
   "source": [
    "# Day 2015_08: Matchsticks"
   ]
  },
  {
   "cell_type": "code",
   "execution_count": null,
   "id": "e7ba6dbf",
   "metadata": {},
   "outputs": [],
   "source": [
    "year = 2015\n",
    "day  = 8"
   ]
  },
  {
   "cell_type": "code",
   "execution_count": null,
   "id": "93f010b0",
   "metadata": {},
   "outputs": [],
   "source": [
    "from local_settings import load_input\n",
    "content = load_input(year, day)\n",
    "print(f\"[{content[:100]}...]\")"
   ]
  },
  {
   "cell_type": "markdown",
   "id": "ee4d99ce",
   "metadata": {},
   "source": [
    "# Part 1"
   ]
  },
  {
   "cell_type": "code",
   "execution_count": null,
   "id": "79fb8011",
   "metadata": {},
   "outputs": [],
   "source": [
    "def countDecodedCharacters(s):\n",
    "    state = \"Idle\"\n",
    "    count = 0\n",
    "    for c in s[1:-1]:\n",
    "        if state == \"Idle\":\n",
    "            if c == '\\\\':\n",
    "                state = \"Slash\"\n",
    "            else:\n",
    "                count += 1\n",
    "        elif state == \"Slash\":\n",
    "            if c in \"\\\\\\\"\":\n",
    "                state = \"Idle\"\n",
    "                count += 1\n",
    "            elif c in \"Xx\":\n",
    "                state = \"Hex\"\n",
    "                hexDigit = 0\n",
    "            else:\n",
    "                state = \"Idle\"\n",
    "                count += 2\n",
    "                print(\"Malformed \\\\ not followed by \\\\,\\\", or x\")\n",
    "        elif state == \"Hex\":\n",
    "            if c in \"0123456789AaBbCcDdEeFf\":\n",
    "                hexDigit += 1\n",
    "                if hexDigit == 2:\n",
    "                    state = \"Idle\"\n",
    "                    count += 1\n",
    "            else:\n",
    "                print(\"Malformed hex: \", s)\n",
    "                state = \"Idle\"\n",
    "                count += (2 + hexDigit)\n",
    "    return len(s) - count"
   ]
  },
  {
   "cell_type": "markdown",
   "id": "e749ac16",
   "metadata": {},
   "source": [
    "## Examples:\n",
    "```\n",
    "\"\" is 2 characters of code (the two double quotes), but the string contains zero characters.\n",
    "\"abc\" is 5 characters of code, but 3 characters in the string data.\n",
    "\"aaa\\\"aaa\" is 10 characters of code, but the string itself contains six \"a\" characters and a single, escaped quote character, for a total of 7 characters in the string data.\n",
    "\"\\x27\" is 6 characters of code, but the string itself contains just one - an apostrophe ('), escaped using hexadecimal notation.\n",
    "```"
   ]
  },
  {
   "cell_type": "code",
   "execution_count": null,
   "id": "e3fc2609",
   "metadata": {},
   "outputs": [],
   "source": [
    "inpString = \"\\\"\\\"\"\n",
    "print(inpString, countDecodedCharacters(inpString))\n",
    "inpString = \"\\\"abc\\\"\"\n",
    "print(inpString, countDecodedCharacters(inpString))\n",
    "inpString = \"\\\"aaa\\\\\\\"aaa\\\"\"\n",
    "print(inpString, countDecodedCharacters(inpString))\n",
    "inpString = \"\\\"\\\\x27\\\"\"\n",
    "print(inpString, countDecodedCharacters(inpString))"
   ]
  },
  {
   "cell_type": "code",
   "execution_count": null,
   "id": "d1f83568",
   "metadata": {},
   "outputs": [],
   "source": [
    "print(sum((countDecodedCharacters(s) for s in content.splitlines())))"
   ]
  },
  {
   "cell_type": "markdown",
   "id": "63f34142",
   "metadata": {},
   "source": [
    "# Part 2"
   ]
  },
  {
   "cell_type": "code",
   "execution_count": null,
   "id": "b29043ee",
   "metadata": {},
   "outputs": [],
   "source": [
    "def countEncodedCharacters(inpString):\n",
    "    count = 0\n",
    "    for c in inpString:\n",
    "        if c in \"\\\"\\\\\":\n",
    "            count += 2\n",
    "        else:\n",
    "            count += 1\n",
    "    return count - len(inpString) + 2"
   ]
  },
  {
   "cell_type": "markdown",
   "id": "380d3358",
   "metadata": {},
   "source": [
    "## Examples:\n",
    "```\n",
    "\"\" encodes to \"\\\"\\\"\", an increase from 2 characters to 6.\n",
    "\"abc\" encodes to \"\\\"abc\\\"\", an increase from 5 characters to 9.\n",
    "\"aaa\\\"aaa\" encodes to \"\\\"aaa\\\\\\\"aaa\\\"\", an increase from 10 characters to 16.\n",
    "\"\\x27\" encodes to \"\\\"\\\\x27\\\"\", an increase from 6 characters to 11.\n",
    "```"
   ]
  },
  {
   "cell_type": "code",
   "execution_count": null,
   "id": "076cb67c",
   "metadata": {},
   "outputs": [],
   "source": [
    "inpString = \"\\\"\\\"\"\n",
    "print(inpString, countEncodedCharacters(inpString))\n",
    "inpString = \"\\\"abc\\\"\"\n",
    "print(inpString, countEncodedCharacters(inpString))\n",
    "inpString = \"\\\"aaa\\\\\\\"aaa\\\"\"\n",
    "print(inpString, countEncodedCharacters(inpString))\n",
    "inpString = \"\\\"\\\\x27\\\"\"\n",
    "print(inpString, countEncodedCharacters(inpString))"
   ]
  },
  {
   "cell_type": "code",
   "execution_count": null,
   "id": "7c6804a4",
   "metadata": {},
   "outputs": [],
   "source": [
    "print(sum((countEncodedCharacters(inpString) for inpString in content.splitlines())))"
   ]
  }
 ],
 "metadata": {
  "kernelspec": {
   "display_name": "Python 3.9.12 ('base')",
   "language": "python",
   "name": "python3"
  },
  "language_info": {
   "codemirror_mode": {
    "name": "ipython",
    "version": 3
   },
   "file_extension": ".py",
   "mimetype": "text/x-python",
   "name": "python",
   "nbconvert_exporter": "python",
   "pygments_lexer": "ipython3",
   "version": "3.9.12"
  },
  "vscode": {
   "interpreter": {
    "hash": "26b41e701b9231918f8329cfe003d300e3582e92b2efa9bd361dfdb186f62974"
   }
  }
 },
 "nbformat": 4,
 "nbformat_minor": 5
}
