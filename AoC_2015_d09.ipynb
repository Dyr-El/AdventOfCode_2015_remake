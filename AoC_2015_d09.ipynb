{
 "cells": [
  {
   "cell_type": "markdown",
   "id": "0f863bc7",
   "metadata": {},
   "source": [
    "# Day 2015_09: All in a Single Night"
   ]
  },
  {
   "cell_type": "code",
   "execution_count": null,
   "id": "e7ba6dbf",
   "metadata": {},
   "outputs": [],
   "source": [
    "year = 2015\n",
    "day  = 9"
   ]
  },
  {
   "cell_type": "code",
   "execution_count": null,
   "id": "93f010b0",
   "metadata": {},
   "outputs": [],
   "source": [
    "from local_settings import load_input\n",
    "content = load_input(year, day)\n",
    "print(f\"[{content[:100]}...]\")"
   ]
  },
  {
   "cell_type": "markdown",
   "id": "ee4d99ce",
   "metadata": {},
   "source": [
    "# Part 1"
   ]
  },
  {
   "cell_type": "code",
   "execution_count": null,
   "id": "c2877c7a",
   "metadata": {},
   "outputs": [],
   "source": [
    "def parseInput(inp):\n",
    "    mp = dict()\n",
    "    for s in inp.splitlines():\n",
    "        distStr = tuple(s.split())\n",
    "        p1, p2, dist = distStr[0], distStr[2], int(distStr[4])\n",
    "        if p1 not in mp:\n",
    "            mp[p1] = dict()\n",
    "        if p2 not in mp:\n",
    "            mp[p2] = dict()\n",
    "        mp[p1][p2] = dist\n",
    "        mp[p2][p1] = dist\n",
    "    return mp"
   ]
  },
  {
   "cell_type": "code",
   "execution_count": null,
   "id": "7580258b",
   "metadata": {},
   "outputs": [],
   "source": [
    "def findShortestPath(mp, remaining, current=None):\n",
    "    if current is None:\n",
    "        return min((findShortestPath(mp, remaining - {startCity}, startCity)\n",
    "                    for startCity in remaining))\n",
    "    if len(remaining) == 1:\n",
    "        return mp[current][list(remaining)[0]]\n",
    "    return min(((mp[current][nextDest] + findShortestPath(mp, remaining - {nextDest}, nextDest)\n",
    "                for nextDest in remaining)))"
   ]
  },
  {
   "cell_type": "markdown",
   "id": "e749ac16",
   "metadata": {},
   "source": [
    "## Examples:\n",
    "```\n",
    "London to Dublin = 464\n",
    "London to Belfast = 518\n",
    "Dublin to Belfast = 141\n",
    "```"
   ]
  },
  {
   "cell_type": "code",
   "execution_count": null,
   "id": "991bbcca",
   "metadata": {},
   "outputs": [],
   "source": [
    "exampleInput = \"\"\"London to Dublin = 464\n",
    "London to Belfast = 518\n",
    "Dublin to Belfast = 141\"\"\"\n",
    "mp = parseInput(exampleInput)\n",
    "print(findShortestPath(mp, set(mp.keys())))"
   ]
  },
  {
   "cell_type": "code",
   "execution_count": null,
   "id": "6ebb9d29",
   "metadata": {},
   "outputs": [],
   "source": [
    "mp = parseInput(content)\n",
    "print(findShortestPath(mp, set(mp.keys())))"
   ]
  },
  {
   "cell_type": "markdown",
   "id": "63f34142",
   "metadata": {},
   "source": [
    "# Part 2"
   ]
  },
  {
   "cell_type": "code",
   "execution_count": null,
   "id": "31d63119",
   "metadata": {},
   "outputs": [],
   "source": [
    "def findLongestPath(mp, remaining, current=None):\n",
    "    if current is None:\n",
    "        return max((findLongestPath(mp, remaining - {startCity}, startCity)\n",
    "                    for startCity in remaining))\n",
    "    if len(remaining) == 1:\n",
    "        return mp[current][list(remaining)[0]]\n",
    "    return max(((mp[current][nextDest] + findLongestPath(mp, remaining - {nextDest}, nextDest)\n",
    "                for nextDest in remaining)))"
   ]
  },
  {
   "cell_type": "markdown",
   "id": "380d3358",
   "metadata": {},
   "source": [
    "## Examples:\n",
    "```\n",
    "```"
   ]
  },
  {
   "cell_type": "code",
   "execution_count": null,
   "id": "d4c6e31a",
   "metadata": {},
   "outputs": [],
   "source": [
    "mp = parseInput(exampleInput)\n",
    "print(findLongestPath(mp, set(mp.keys())))"
   ]
  },
  {
   "cell_type": "code",
   "execution_count": null,
   "id": "5a5e1b00",
   "metadata": {},
   "outputs": [],
   "source": [
    "mp = parseInput(content)\n",
    "print(findLongestPath(mp, set(mp.keys())))"
   ]
  }
 ],
 "metadata": {
  "kernelspec": {
   "display_name": "Python 3.9.12 ('base')",
   "language": "python",
   "name": "python3"
  },
  "language_info": {
   "codemirror_mode": {
    "name": "ipython",
    "version": 3
   },
   "file_extension": ".py",
   "mimetype": "text/x-python",
   "name": "python",
   "nbconvert_exporter": "python",
   "pygments_lexer": "ipython3",
   "version": "3.9.12"
  },
  "vscode": {
   "interpreter": {
    "hash": "26b41e701b9231918f8329cfe003d300e3582e92b2efa9bd361dfdb186f62974"
   }
  }
 },
 "nbformat": 4,
 "nbformat_minor": 5
}
