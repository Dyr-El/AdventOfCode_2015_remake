{
 "cells": [
  {
   "cell_type": "markdown",
   "id": "0f863bc7",
   "metadata": {},
   "source": [
    "# Day 2015_10: Elves Look, Elves Say"
   ]
  },
  {
   "cell_type": "code",
   "execution_count": 1,
   "id": "e7ba6dbf",
   "metadata": {},
   "outputs": [],
   "source": [
    "year = 2015\n",
    "day  = 10"
   ]
  },
  {
   "cell_type": "code",
   "execution_count": 2,
   "id": "93f010b0",
   "metadata": {},
   "outputs": [
    {
     "name": "stdout",
     "output_type": "stream",
     "text": [
      "Reading [https://adventofcode.com/2015/day/10/input]\n",
      " With proxy: [https: http://proxyseso.scania.com:8080]\n",
      " With proxy: [http: http://proxyseso.scania.com:8080]\n",
      "11 characters read.\n",
      "[1113122113\n",
      "...]\n"
     ]
    }
   ],
   "source": [
    "from local_settings import load_input\n",
    "content = load_input(year, day)\n",
    "print(f\"[{content[:100]}...]\")"
   ]
  },
  {
   "cell_type": "markdown",
   "id": "ee4d99ce",
   "metadata": {},
   "source": [
    "# Part 1"
   ]
  },
  {
   "cell_type": "code",
   "execution_count": 3,
   "id": "e9273d27",
   "metadata": {},
   "outputs": [],
   "source": [
    "def sayIt(s):\n",
    "    l = list()\n",
    "    current = s[0]\n",
    "    run = 1\n",
    "    for c in s[1:]:\n",
    "        if c != current:\n",
    "            l.extend(str(run))\n",
    "            l.append(current)\n",
    "            current = c\n",
    "            run = 1\n",
    "        else:\n",
    "            run += 1\n",
    "    l.extend(str(run))\n",
    "    l.append(current)\n",
    "    return ''.join(l)"
   ]
  },
  {
   "cell_type": "markdown",
   "id": "e749ac16",
   "metadata": {},
   "source": [
    "## Examples:\n",
    "```\n",
    "1 becomes 11 (1 copy of digit 1).\n",
    "11 becomes 21 (2 copies of digit 1).\n",
    "21 becomes 1211 (one 2 followed by one 1).\n",
    "1211 becomes 111221 (one 1, one 2, and two 1s).\n",
    "111221 becomes 312211 (three 1s, two 2s, and one 1).\n",
    "```"
   ]
  },
  {
   "cell_type": "code",
   "execution_count": 4,
   "id": "cfd8eb45",
   "metadata": {},
   "outputs": [
    {
     "name": "stdout",
     "output_type": "stream",
     "text": [
      "11\n",
      "21\n",
      "1211\n",
      "111221\n",
      "312211\n"
     ]
    }
   ],
   "source": [
    "example = \"1\"\n",
    "for i in range(5):\n",
    "    example = sayIt(example)\n",
    "    print(example)"
   ]
  },
  {
   "cell_type": "code",
   "execution_count": 5,
   "id": "a498117a",
   "metadata": {},
   "outputs": [
    {
     "name": "stdout",
     "output_type": "stream",
     "text": [
      "360154\n"
     ]
    }
   ],
   "source": [
    "s = content.strip()\n",
    "for i in range(40):\n",
    "    s = sayIt(s)\n",
    "print(len(s))"
   ]
  },
  {
   "cell_type": "markdown",
   "id": "63f34142",
   "metadata": {},
   "source": [
    "# Part 2"
   ]
  },
  {
   "cell_type": "markdown",
   "id": "380d3358",
   "metadata": {},
   "source": [
    "## Examples:\n",
    "```\n",
    "```"
   ]
  },
  {
   "cell_type": "code",
   "execution_count": 6,
   "id": "682de1a5",
   "metadata": {},
   "outputs": [
    {
     "name": "stdout",
     "output_type": "stream",
     "text": [
      "5103798\n"
     ]
    }
   ],
   "source": [
    "s = content.strip()\n",
    "for i in range(50):\n",
    "    s = sayIt(s)\n",
    "print(len(s))"
   ]
  }
 ],
 "metadata": {
  "kernelspec": {
   "display_name": "Python 3.9.12 ('base')",
   "language": "python",
   "name": "python3"
  },
  "language_info": {
   "codemirror_mode": {
    "name": "ipython",
    "version": 3
   },
   "file_extension": ".py",
   "mimetype": "text/x-python",
   "name": "python",
   "nbconvert_exporter": "python",
   "pygments_lexer": "ipython3",
   "version": "3.9.12"
  },
  "vscode": {
   "interpreter": {
    "hash": "26b41e701b9231918f8329cfe003d300e3582e92b2efa9bd361dfdb186f62974"
   }
  }
 },
 "nbformat": 4,
 "nbformat_minor": 5
}
