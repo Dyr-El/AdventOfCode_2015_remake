{
 "cells": [
  {
   "cell_type": "markdown",
   "id": "0f863bc7",
   "metadata": {},
   "source": [
    "# Day 2015_11: Corporate Policy"
   ]
  },
  {
   "cell_type": "code",
   "execution_count": null,
   "id": "e7ba6dbf",
   "metadata": {},
   "outputs": [],
   "source": [
    "year = 2015\n",
    "day  = 11"
   ]
  },
  {
   "cell_type": "code",
   "execution_count": null,
   "id": "93f010b0",
   "metadata": {},
   "outputs": [],
   "source": [
    "from local_settings import load_input\n",
    "content = load_input(year, day)\n",
    "print(f\"[{content[:100]}...]\")"
   ]
  },
  {
   "cell_type": "markdown",
   "id": "ee4d99ce",
   "metadata": {},
   "source": [
    "# Part 1"
   ]
  },
  {
   "cell_type": "code",
   "execution_count": null,
   "id": "29d8e962",
   "metadata": {},
   "outputs": [],
   "source": [
    "allLetters = \"abcdefghijklmnopqrstuvwxyz\"\n",
    "invalidLetters = set(\"ilo\")\n",
    "allSequences = [''.join([a, b, c])\n",
    "                  for a, b, c in zip(allLetters, allLetters[1:], allLetters[2:])]\n",
    "allPairs = [a*2 for a in allLetters]\n",
    "allMapping = {a:b for a, b in zip(allLetters, allLetters[1:] + allLetters[0])}\n",
    "\n",
    "def passwordGenerator(init):\n",
    "    l = list(init)\n",
    "    while True:\n",
    "        for i in range(len(l)-1, 0, -1):\n",
    "            l[i] = allMapping[l[i]]\n",
    "            if l[i] != 'a':\n",
    "                break\n",
    "        yield ''.join(l)\n",
    "\n",
    "def validatePassword(password):\n",
    "    return (all((c not in password for c in invalidLetters)) and \n",
    "            any((seq in password for seq in allSequences)) and\n",
    "            sum((password.count(pair) for pair in allPairs)) > 1)\n",
    "        \n",
    "def generateValidPassword(init):\n",
    "    for password in passwordGenerator(init):\n",
    "        if validatePassword(password):\n",
    "            yield password"
   ]
  },
  {
   "cell_type": "markdown",
   "id": "e749ac16",
   "metadata": {},
   "source": [
    "## Examples:\n",
    "```\n",
    "hijklmmn meets the first requirement (because it contains the straight hij) but fails the second requirement requirement (because it contains i and l).\n",
    "abbceffg meets the third requirement (because it repeats bb and ff) but fails the first requirement.\n",
    "abbcegjk fails the third requirement, because it only has one double letter (bb).\n",
    "The next password after abcdefgh is abcdffaa.\n",
    "The next password after ghijklmn is ghjaabcc, because you eventually skip all the passwords that start with ghi..., since i is not allowed.\n",
    "```"
   ]
  },
  {
   "cell_type": "code",
   "execution_count": null,
   "id": "1a0c6074",
   "metadata": {},
   "outputs": [],
   "source": [
    "print(validatePassword(\"hijklmmn\"))\n",
    "print(validatePassword(\"abbceffg\"))\n",
    "print(validatePassword(\"abbcegjk\"))\n",
    "print(next(generateValidPassword(\"abcdefgh\")))\n",
    "print(next(generateValidPassword(\"ghijklmn\")))"
   ]
  },
  {
   "cell_type": "code",
   "execution_count": null,
   "id": "214f0fd6",
   "metadata": {},
   "outputs": [],
   "source": [
    "solution1 = next(generateValidPassword(content.strip()))\n",
    "print(solution1)"
   ]
  },
  {
   "cell_type": "markdown",
   "id": "63f34142",
   "metadata": {},
   "source": [
    "# Part 2"
   ]
  },
  {
   "cell_type": "markdown",
   "id": "380d3358",
   "metadata": {},
   "source": [
    "## Examples:\n",
    "```\n",
    "```"
   ]
  },
  {
   "cell_type": "code",
   "execution_count": null,
   "id": "97c6c4a8",
   "metadata": {},
   "outputs": [],
   "source": [
    "print(next(generateValidPassword(solution1)))"
   ]
  }
 ],
 "metadata": {
  "kernelspec": {
   "display_name": "Python 3.9.12 ('base')",
   "language": "python",
   "name": "python3"
  },
  "language_info": {
   "codemirror_mode": {
    "name": "ipython",
    "version": 3
   },
   "file_extension": ".py",
   "mimetype": "text/x-python",
   "name": "python",
   "nbconvert_exporter": "python",
   "pygments_lexer": "ipython3",
   "version": "3.9.12"
  },
  "vscode": {
   "interpreter": {
    "hash": "26b41e701b9231918f8329cfe003d300e3582e92b2efa9bd361dfdb186f62974"
   }
  }
 },
 "nbformat": 4,
 "nbformat_minor": 5
}
