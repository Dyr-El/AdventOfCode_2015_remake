{
 "cells": [
  {
   "cell_type": "markdown",
   "id": "0f863bc7",
   "metadata": {},
   "source": [
    "# Day 2015_12: JSAbacusFramework.io"
   ]
  },
  {
   "cell_type": "code",
   "execution_count": 1,
   "id": "e7ba6dbf",
   "metadata": {},
   "outputs": [],
   "source": [
    "year = 2015\n",
    "day  = 12"
   ]
  },
  {
   "cell_type": "code",
   "execution_count": 2,
   "id": "93f010b0",
   "metadata": {},
   "outputs": [
    {
     "name": "stdout",
     "output_type": "stream",
     "text": [
      "Reading [https://adventofcode.com/2015/day/12/input]\n",
      " With proxy: [https: http://proxyseso.scania.com:8080]\n",
      " With proxy: [http: http://proxyseso.scania.com:8080]\n",
      "37048 characters read.\n",
      "[[{\"a\":{\"e\":{\"e\":161,\"a\":\"blue\",\"d\":{\"e\":-14,\"a\":\"red\",\"d\":{\"c\":\"yellow\",\"a\":[-35,0],\"b\":\"orange\",\"d\"...]\n"
     ]
    }
   ],
   "source": [
    "from local_settings import load_input\n",
    "content = load_input(year, day)\n",
    "print(f\"[{content[:100]}...]\")"
   ]
  },
  {
   "cell_type": "markdown",
   "id": "ee4d99ce",
   "metadata": {},
   "source": [
    "# Part 1"
   ]
  },
  {
   "cell_type": "code",
   "execution_count": 3,
   "id": "541a2f70",
   "metadata": {},
   "outputs": [],
   "source": [
    "def parseTree(s):\n",
    "    return eval(s)\n",
    "\n",
    "def sumAllNumbers(t):\n",
    "    if isinstance(t, dict):\n",
    "        return sum((sumAllNumbers(v) for v in t.values()))\n",
    "    if isinstance(t, list):\n",
    "        return sum((sumAllNumbers(v) for v in t))\n",
    "    if isinstance(t, str):\n",
    "        return 0\n",
    "    return t"
   ]
  },
  {
   "cell_type": "markdown",
   "id": "e749ac16",
   "metadata": {},
   "source": [
    "## Examples:\n",
    "```\n",
    "[1,2,3] and {\"a\":2,\"b\":4} both have a sum of 6.\n",
    "[[[3]]] and {\"a\":{\"b\":4},\"c\":-1} both have a sum of 3.\n",
    "{\"a\":[-1,1]} and [-1,{\"a\":1}] both have a sum of 0.\n",
    "[] and {} both have a sum of 0.\n",
    "```"
   ]
  },
  {
   "cell_type": "code",
   "execution_count": 4,
   "id": "64ec2b04",
   "metadata": {},
   "outputs": [
    {
     "name": "stdout",
     "output_type": "stream",
     "text": [
      "6 6\n",
      "3 3\n",
      "0 0\n",
      "0 0\n"
     ]
    }
   ],
   "source": [
    "print(sumAllNumbers(parseTree('[1,2,3]')),\n",
    "      sumAllNumbers(parseTree('{\"a\":2,\"b\":4}')))\n",
    "print(sumAllNumbers(parseTree('[[[3]]]')),\n",
    "      sumAllNumbers(parseTree('{\"a\":{\"b\":4},\"c\":-1}')))\n",
    "print(sumAllNumbers(parseTree('{\"a\":[-1,1]}')),\n",
    "      sumAllNumbers(parseTree('[-1,{\"a\":1}]')))\n",
    "print(sumAllNumbers(parseTree('[]')),\n",
    "      sumAllNumbers(parseTree('{}')))"
   ]
  },
  {
   "cell_type": "code",
   "execution_count": 5,
   "id": "4cfb4956",
   "metadata": {},
   "outputs": [
    {
     "name": "stdout",
     "output_type": "stream",
     "text": [
      "156366\n"
     ]
    }
   ],
   "source": [
    "print(sumAllNumbers(parseTree(content)))"
   ]
  },
  {
   "cell_type": "markdown",
   "id": "63f34142",
   "metadata": {},
   "source": [
    "# Part 2"
   ]
  },
  {
   "cell_type": "code",
   "execution_count": 6,
   "id": "dbb373d4",
   "metadata": {},
   "outputs": [],
   "source": [
    "def sumAllNRNumbers(t):\n",
    "    if isinstance(t, dict):\n",
    "        if \"red\" in t.values():\n",
    "            return 0\n",
    "        return sum((sumAllNRNumbers(v) for v in t.values()))\n",
    "    if isinstance(t, list):\n",
    "        return sum((sumAllNRNumbers(v) for v in t))\n",
    "    if isinstance(t, str):\n",
    "        return 0\n",
    "    return t"
   ]
  },
  {
   "cell_type": "markdown",
   "id": "380d3358",
   "metadata": {},
   "source": [
    "## Examples:\n",
    "```\n",
    "[1,2,3] still has a sum of 6.\n",
    "[1,{\"c\":\"red\",\"b\":2},3] now has a sum of 4, because the middle object is ignored.\n",
    "{\"d\":\"red\",\"e\":[1,2,3,4],\"f\":5} now has a sum of 0, because the entire structure is ignored.\n",
    "[1,\"red\",5] has a sum of 6, because \"red\" in an array has no effect.\n",
    "```"
   ]
  },
  {
   "cell_type": "code",
   "execution_count": 7,
   "id": "12eeec8c",
   "metadata": {},
   "outputs": [
    {
     "name": "stdout",
     "output_type": "stream",
     "text": [
      "6\n",
      "4\n",
      "0\n",
      "6\n"
     ]
    }
   ],
   "source": [
    "print(sumAllNRNumbers(parseTree('[1,2,3]')))\n",
    "print(sumAllNRNumbers(parseTree('[1,{\"c\":\"red\",\"b\":2},3]')))\n",
    "print(sumAllNRNumbers(parseTree('{\"d\":\"red\",\"e\":[1,2,3,4],\"f\":5}')))\n",
    "print(sumAllNRNumbers(parseTree('[1,\"red\",5]')))"
   ]
  },
  {
   "cell_type": "code",
   "execution_count": 8,
   "id": "1d5189d7",
   "metadata": {},
   "outputs": [
    {
     "name": "stdout",
     "output_type": "stream",
     "text": [
      "96852\n"
     ]
    }
   ],
   "source": [
    "print(sumAllNRNumbers(parseTree(content)))"
   ]
  }
 ],
 "metadata": {
  "kernelspec": {
   "display_name": "Python 3.9.12 ('base')",
   "language": "python",
   "name": "python3"
  },
  "language_info": {
   "codemirror_mode": {
    "name": "ipython",
    "version": 3
   },
   "file_extension": ".py",
   "mimetype": "text/x-python",
   "name": "python",
   "nbconvert_exporter": "python",
   "pygments_lexer": "ipython3",
   "version": "3.9.12"
  },
  "vscode": {
   "interpreter": {
    "hash": "26b41e701b9231918f8329cfe003d300e3582e92b2efa9bd361dfdb186f62974"
   }
  }
 },
 "nbformat": 4,
 "nbformat_minor": 5
}
