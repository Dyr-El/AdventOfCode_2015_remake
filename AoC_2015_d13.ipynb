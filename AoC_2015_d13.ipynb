{
 "cells": [
  {
   "cell_type": "markdown",
   "id": "0f863bc7",
   "metadata": {},
   "source": [
    "# Day 2015_13: Knights of the Dinner Table"
   ]
  },
  {
   "cell_type": "code",
   "execution_count": 1,
   "id": "e7ba6dbf",
   "metadata": {},
   "outputs": [],
   "source": [
    "year = 2015\n",
    "day  = 13"
   ]
  },
  {
   "cell_type": "code",
   "execution_count": 2,
   "id": "93f010b0",
   "metadata": {},
   "outputs": [
    {
     "name": "stdout",
     "output_type": "stream",
     "text": [
      "Reading [https://adventofcode.com/2015/day/13/input]\n",
      " With proxy: [https: http://proxyseso.scania.com:8080]\n",
      " With proxy: [http: http://proxyseso.scania.com:8080]\n",
      "3465 characters read.\n",
      "[Alice would lose 2 happiness units by sitting next to Bob.\n",
      "Alice would lose 62 happiness units by si...]\n"
     ]
    }
   ],
   "source": [
    "from local_settings import load_input\n",
    "content = load_input(year, day)\n",
    "print(f\"[{content[:100]}...]\")"
   ]
  },
  {
   "cell_type": "markdown",
   "id": "ee4d99ce",
   "metadata": {},
   "source": [
    "# Part 1"
   ]
  },
  {
   "cell_type": "code",
   "execution_count": 3,
   "id": "ae02a8af",
   "metadata": {},
   "outputs": [],
   "source": [
    "from itertools import permutations\n",
    "\n",
    "def parseHappiness(s):\n",
    "    for line in s.splitlines():\n",
    "        tokens = tuple(line.split())\n",
    "        name1, name2 = tokens[0], tokens[-1][:-1]\n",
    "        sign = {\"lose\":-1, \"gain\":1}[tokens[2]]\n",
    "        value = int(tokens[3])\n",
    "        yield name1, name2, value*sign\n",
    "        \n",
    "def mapHappiness(s):\n",
    "    happyMap = dict()\n",
    "    for name1, name2, value in parseHappiness(s):\n",
    "        if name1 not in happyMap:\n",
    "            happyMap[name1] = dict()\n",
    "        if name2 not in happyMap:\n",
    "            happyMap[name2] = dict()\n",
    "        happyMap[name1][name2] = happyMap[name1].get(name2, 0) + value\n",
    "        happyMap[name2][name1] = happyMap[name2].get(name1, 0) + value\n",
    "    return happyMap\n",
    "\n",
    "def optimizeHappiness(s):\n",
    "    hm = mapHappiness(s)\n",
    "    names = list(hm.keys())\n",
    "    happyMax = -(2**63)\n",
    "    for combo in permutations(names[1:]):\n",
    "        l = [names[0]] + list(combo) + [names[0]]\n",
    "        happyTot = sum((hm[n1][n2] for n1, n2 in zip(l, l[1:])))\n",
    "        happyMax = max(happyMax, happyTot)\n",
    "    return happyMax"
   ]
  },
  {
   "cell_type": "markdown",
   "id": "e749ac16",
   "metadata": {},
   "source": [
    "## Examples:\n",
    "```\n",
    "Alice would gain 54 happiness units by sitting next to Bob.\n",
    "Alice would lose 79 happiness units by sitting next to Carol.\n",
    "Alice would lose 2 happiness units by sitting next to David.\n",
    "Bob would gain 83 happiness units by sitting next to Alice.\n",
    "Bob would lose 7 happiness units by sitting next to Carol.\n",
    "Bob would lose 63 happiness units by sitting next to David.\n",
    "Carol would lose 62 happiness units by sitting next to Alice.\n",
    "Carol would gain 60 happiness units by sitting next to Bob.\n",
    "Carol would gain 55 happiness units by sitting next to David.\n",
    "David would gain 46 happiness units by sitting next to Alice.\n",
    "David would lose 7 happiness units by sitting next to Bob.\n",
    "David would gain 41 happiness units by sitting next to Carol.\n",
    "```"
   ]
  },
  {
   "cell_type": "code",
   "execution_count": 4,
   "id": "00eb1f3b",
   "metadata": {},
   "outputs": [
    {
     "name": "stdout",
     "output_type": "stream",
     "text": [
      "330\n"
     ]
    }
   ],
   "source": [
    "example = \"\"\"Alice would gain 54 happiness units by sitting next to Bob.\n",
    "Alice would lose 79 happiness units by sitting next to Carol.\n",
    "Alice would lose 2 happiness units by sitting next to David.\n",
    "Bob would gain 83 happiness units by sitting next to Alice.\n",
    "Bob would lose 7 happiness units by sitting next to Carol.\n",
    "Bob would lose 63 happiness units by sitting next to David.\n",
    "Carol would lose 62 happiness units by sitting next to Alice.\n",
    "Carol would gain 60 happiness units by sitting next to Bob.\n",
    "Carol would gain 55 happiness units by sitting next to David.\n",
    "David would gain 46 happiness units by sitting next to Alice.\n",
    "David would lose 7 happiness units by sitting next to Bob.\n",
    "David would gain 41 happiness units by sitting next to Carol.\"\"\"\n",
    "    \n",
    "print(optimizeHappiness(example))"
   ]
  },
  {
   "cell_type": "code",
   "execution_count": 5,
   "id": "e31c177e",
   "metadata": {},
   "outputs": [
    {
     "name": "stdout",
     "output_type": "stream",
     "text": [
      "664\n"
     ]
    }
   ],
   "source": [
    "print(optimizeHappiness(content))"
   ]
  },
  {
   "cell_type": "markdown",
   "id": "63f34142",
   "metadata": {},
   "source": [
    "# Part 2"
   ]
  },
  {
   "cell_type": "code",
   "execution_count": 6,
   "id": "81383d73",
   "metadata": {},
   "outputs": [],
   "source": [
    "def optimizeHappinessWithMe(s):\n",
    "    hm = mapHappiness(s)\n",
    "    names = list(hm.keys())\n",
    "    hm[\"Me\"] = dict()\n",
    "    for name in names:\n",
    "        hm[\"Me\"][name] = 0\n",
    "        hm[name][\"Me\"] = 0\n",
    "    names.append(\"Me\")\n",
    "    happyMax = -(2**63)\n",
    "    for combo in permutations(names[1:]):\n",
    "        l = [names[0]] + list(combo) + [names[0]]\n",
    "        happyTot = sum((hm[n1][n2] for n1, n2 in zip(l, l[1:])))\n",
    "        happyMax = max(happyMax, happyTot)\n",
    "    return happyMax"
   ]
  },
  {
   "cell_type": "code",
   "execution_count": 7,
   "id": "665ca9db",
   "metadata": {},
   "outputs": [
    {
     "name": "stdout",
     "output_type": "stream",
     "text": [
      "640\n"
     ]
    }
   ],
   "source": [
    "print(optimizeHappinessWithMe(content))"
   ]
  },
  {
   "cell_type": "markdown",
   "id": "380d3358",
   "metadata": {},
   "source": [
    "## Examples:\n",
    "```\n",
    "```"
   ]
  }
 ],
 "metadata": {
  "kernelspec": {
   "display_name": "Python 3.9.12 ('base')",
   "language": "python",
   "name": "python3"
  },
  "language_info": {
   "codemirror_mode": {
    "name": "ipython",
    "version": 3
   },
   "file_extension": ".py",
   "mimetype": "text/x-python",
   "name": "python",
   "nbconvert_exporter": "python",
   "pygments_lexer": "ipython3",
   "version": "3.9.12"
  },
  "vscode": {
   "interpreter": {
    "hash": "26b41e701b9231918f8329cfe003d300e3582e92b2efa9bd361dfdb186f62974"
   }
  }
 },
 "nbformat": 4,
 "nbformat_minor": 5
}
