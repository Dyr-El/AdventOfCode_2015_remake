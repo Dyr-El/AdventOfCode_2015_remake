{
 "cells": [
  {
   "cell_type": "markdown",
   "id": "0f863bc7",
   "metadata": {},
   "source": [
    "# Day 2015_14: Reindeer Olympics"
   ]
  },
  {
   "cell_type": "code",
   "execution_count": 1,
   "id": "e7ba6dbf",
   "metadata": {},
   "outputs": [],
   "source": [
    "year = 2015\n",
    "day  = 14"
   ]
  },
  {
   "cell_type": "code",
   "execution_count": 2,
   "id": "93f010b0",
   "metadata": {},
   "outputs": [
    {
     "name": "stdout",
     "output_type": "stream",
     "text": [
      "Reading [https://adventofcode.com/2015/day/14/input]\n",
      " With proxy: [https: http://proxyseso.scania.com:8080]\n",
      " With proxy: [http: http://proxyseso.scania.com:8080]\n",
      "662 characters read.\n",
      "[Vixen can fly 19 km/s for 7 seconds, but then must rest for 124 seconds.\n",
      "Rudolph can fly 3 km/s for ...]\n"
     ]
    }
   ],
   "source": [
    "from local_settings import load_input\n",
    "content = load_input(year, day)\n",
    "print(f\"[{content[:100]}...]\")"
   ]
  },
  {
   "cell_type": "markdown",
   "id": "ee4d99ce",
   "metadata": {},
   "source": [
    "# Part 1"
   ]
  },
  {
   "cell_type": "code",
   "execution_count": 3,
   "id": "17e5cd58",
   "metadata": {},
   "outputs": [],
   "source": [
    "def parseReindeers(s):\n",
    "    for line in s.splitlines():\n",
    "        tokens = tuple(line.split())\n",
    "        name = tokens[0]\n",
    "        speed = int(tokens[3])\n",
    "        fly = int(tokens[6])\n",
    "        rest = int(tokens[-2])\n",
    "        yield name, speed, fly, rest\n",
    "\n",
    "def reindeerRace(s, time):\n",
    "    reindeers = [[name, pace, fly, rest, 0] \n",
    "                 for name, pace, fly, rest in parseReindeers(s)]\n",
    "    for i in range(time):\n",
    "        for reindeer in reindeers:\n",
    "            name, pace, fly, rest, dist = reindeer\n",
    "            if i % (fly + rest) < fly:\n",
    "                reindeer[4] += pace\n",
    "    return max((dist for _, _, _, _, dist in reindeers))"
   ]
  },
  {
   "cell_type": "markdown",
   "id": "e749ac16",
   "metadata": {},
   "source": [
    "## Examples:\n",
    "```\n",
    "Comet can fly 14 km/s for 10 seconds, but then must rest for 127 seconds.\n",
    "Dancer can fly 16 km/s for 11 seconds, but then must rest for 162 seconds.\n",
    "```"
   ]
  },
  {
   "cell_type": "code",
   "execution_count": 4,
   "id": "55ee7432",
   "metadata": {},
   "outputs": [
    {
     "name": "stdout",
     "output_type": "stream",
     "text": [
      "1120\n"
     ]
    }
   ],
   "source": [
    "example = \"\"\"Comet can fly 14 km/s for 10 seconds, but then must rest for 127 seconds.\n",
    "Dancer can fly 16 km/s for 11 seconds, but then must rest for 162 seconds.\n",
    "\"\"\"\n",
    "\n",
    "print(reindeerRace(example, 1000))"
   ]
  },
  {
   "cell_type": "code",
   "execution_count": 5,
   "id": "056ab631",
   "metadata": {},
   "outputs": [
    {
     "name": "stdout",
     "output_type": "stream",
     "text": [
      "2660\n"
     ]
    }
   ],
   "source": [
    "print(reindeerRace(content, 2503))"
   ]
  },
  {
   "cell_type": "markdown",
   "id": "63f34142",
   "metadata": {},
   "source": [
    "# Part 2"
   ]
  },
  {
   "cell_type": "code",
   "execution_count": 6,
   "id": "6efe25d1",
   "metadata": {},
   "outputs": [],
   "source": [
    "def reindeerScore(s, time):\n",
    "    reindeers = [[name, pace, fly, rest, 0, 0] \n",
    "                 for name, pace, fly, rest in parseReindeers(s)]\n",
    "    for i in range(time):\n",
    "        for reindeer in reindeers:\n",
    "            name, pace, fly, rest, dist, score = reindeer\n",
    "            if i % (fly + rest) < fly:\n",
    "                reindeer[4] += pace\n",
    "        maxDist = max((dist for _, _, _, _, dist, _ in reindeers))\n",
    "        for reindeer in reindeers:\n",
    "            name, pace, fly, rest, dist, score = reindeer\n",
    "            if dist == maxDist:\n",
    "                reindeer[5] += 1\n",
    "    return max((score for _, _, _, _, _, score in reindeers))"
   ]
  },
  {
   "cell_type": "markdown",
   "id": "380d3358",
   "metadata": {},
   "source": [
    "## Examples:\n",
    "```\n",
    "```"
   ]
  },
  {
   "cell_type": "code",
   "execution_count": 7,
   "id": "4f518b9d",
   "metadata": {},
   "outputs": [
    {
     "name": "stdout",
     "output_type": "stream",
     "text": [
      "689\n"
     ]
    }
   ],
   "source": [
    "print(reindeerScore(example, 1000))"
   ]
  },
  {
   "cell_type": "code",
   "execution_count": 8,
   "id": "fb185d95",
   "metadata": {},
   "outputs": [
    {
     "name": "stdout",
     "output_type": "stream",
     "text": [
      "1256\n"
     ]
    }
   ],
   "source": [
    "print(reindeerScore(content, 2503))"
   ]
  }
 ],
 "metadata": {
  "kernelspec": {
   "display_name": "Python 3.9.12 ('base')",
   "language": "python",
   "name": "python3"
  },
  "language_info": {
   "codemirror_mode": {
    "name": "ipython",
    "version": 3
   },
   "file_extension": ".py",
   "mimetype": "text/x-python",
   "name": "python",
   "nbconvert_exporter": "python",
   "pygments_lexer": "ipython3",
   "version": "3.9.12"
  },
  "vscode": {
   "interpreter": {
    "hash": "26b41e701b9231918f8329cfe003d300e3582e92b2efa9bd361dfdb186f62974"
   }
  }
 },
 "nbformat": 4,
 "nbformat_minor": 5
}
