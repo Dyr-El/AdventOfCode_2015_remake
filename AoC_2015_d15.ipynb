{
 "cells": [
  {
   "cell_type": "markdown",
   "id": "0f863bc7",
   "metadata": {},
   "source": [
    "# Day 2015_15: Science for Hungry People"
   ]
  },
  {
   "cell_type": "code",
   "execution_count": null,
   "id": "e7ba6dbf",
   "metadata": {},
   "outputs": [],
   "source": [
    "year = 2015\n",
    "day  = 15"
   ]
  },
  {
   "cell_type": "code",
   "execution_count": null,
   "id": "93f010b0",
   "metadata": {},
   "outputs": [],
   "source": [
    "from local_settings import load_input\n",
    "content = load_input(year, day)\n",
    "print(f\"[{content[:100]}...]\")"
   ]
  },
  {
   "cell_type": "markdown",
   "id": "ee4d99ce",
   "metadata": {},
   "source": [
    "# Part 1"
   ]
  },
  {
   "cell_type": "code",
   "execution_count": null,
   "id": "fa6923d3",
   "metadata": {},
   "outputs": [],
   "source": [
    "def parseIngredients(s):\n",
    "    for line in s.splitlines():\n",
    "        tokens = line.split()\n",
    "        capacity = int(tokens[2][:-1])\n",
    "        durability = int(tokens[4][:-1])\n",
    "        flavor = int(tokens[6][:-1])\n",
    "        texture = int(tokens[8][:-1])\n",
    "        calories = int(tokens[10])\n",
    "        yield capacity, durability, flavor, texture, calories\n",
    "\n",
    "def generateDivision(n, tot):\n",
    "    if n == 1:\n",
    "        yield [tot]\n",
    "    else:\n",
    "        for i in range(tot + 1):\n",
    "            for division in generateDivision(n - 1, tot - i):\n",
    "                yield [i] + division\n",
    "        \n",
    "def optimizeCookie(ingredients, total=100):\n",
    "    ingredients = list(parseIngredients(ingredients))\n",
    "    maxScore = 0\n",
    "    for division in generateDivision(len(ingredients), total):\n",
    "        prop = [0 for _ in range(4)]\n",
    "        for ing, amount in zip(ingredients, division):\n",
    "            prop = [tot + ad * amount for tot, ad in zip(prop, ing)]\n",
    "        prop = [max(0, p) for p in prop]\n",
    "        score = prop[0] * prop[1] * prop[2] * prop[3]\n",
    "        maxScore = max(score, maxScore)\n",
    "    return maxScore"
   ]
  },
  {
   "cell_type": "markdown",
   "id": "e749ac16",
   "metadata": {},
   "source": [
    "## Examples:\n",
    "```\n",
    "Butterscotch: capacity -1, durability -2, flavor 6, texture 3, calories 8\n",
    "Cinnamon: capacity 2, durability 3, flavor -2, texture -1, calories 3\n",
    "```"
   ]
  },
  {
   "cell_type": "code",
   "execution_count": null,
   "id": "37910242",
   "metadata": {},
   "outputs": [],
   "source": [
    "example = \"\"\"Butterscotch: capacity -1, durability -2, flavor 6, texture 3, calories 8\n",
    "Cinnamon: capacity 2, durability 3, flavor -2, texture -1, calories 3\"\"\"\n",
    "\n",
    "print(optimizeCookie(example))"
   ]
  },
  {
   "cell_type": "code",
   "execution_count": null,
   "id": "56a07a57",
   "metadata": {},
   "outputs": [],
   "source": [
    "print(optimizeCookie(content))"
   ]
  },
  {
   "cell_type": "markdown",
   "id": "63f34142",
   "metadata": {},
   "source": [
    "# Part 2"
   ]
  },
  {
   "cell_type": "code",
   "execution_count": null,
   "id": "8588b885",
   "metadata": {},
   "outputs": [],
   "source": [
    "def optimizeCookieCalories(ingredients, total=100, calories=500):\n",
    "    ingredients = list(parseIngredients(ingredients))\n",
    "    maxScore = 0\n",
    "    for division in generateDivision(len(ingredients), total):\n",
    "        prop = [0 for _ in range(5)]\n",
    "        for ing, amount in zip(ingredients, division):\n",
    "            prop = [tot + ad * amount for tot, ad in zip(prop, ing)]\n",
    "        if prop[4] != calories:\n",
    "            continue\n",
    "        prop = [max(0, p) for p in prop]\n",
    "        score = prop[0] * prop[1] * prop[2] * prop[3]\n",
    "        maxScore = max(score, maxScore)\n",
    "    return maxScore"
   ]
  },
  {
   "cell_type": "markdown",
   "id": "380d3358",
   "metadata": {},
   "source": [
    "## Examples:\n",
    "```\n",
    "```"
   ]
  },
  {
   "cell_type": "code",
   "execution_count": null,
   "id": "b419f778",
   "metadata": {},
   "outputs": [],
   "source": [
    "print(optimizeCookieCalories(example))"
   ]
  },
  {
   "cell_type": "code",
   "execution_count": null,
   "id": "61cc97c5",
   "metadata": {},
   "outputs": [],
   "source": [
    "print(optimizeCookieCalories(content))"
   ]
  }
 ],
 "metadata": {
  "kernelspec": {
   "display_name": "Python 3.9.12 ('base')",
   "language": "python",
   "name": "python3"
  },
  "language_info": {
   "codemirror_mode": {
    "name": "ipython",
    "version": 3
   },
   "file_extension": ".py",
   "mimetype": "text/x-python",
   "name": "python",
   "nbconvert_exporter": "python",
   "pygments_lexer": "ipython3",
   "version": "3.9.12"
  },
  "vscode": {
   "interpreter": {
    "hash": "26b41e701b9231918f8329cfe003d300e3582e92b2efa9bd361dfdb186f62974"
   }
  }
 },
 "nbformat": 4,
 "nbformat_minor": 5
}
