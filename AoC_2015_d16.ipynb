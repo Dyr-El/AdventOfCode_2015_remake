{
 "cells": [
  {
   "cell_type": "markdown",
   "id": "0f863bc7",
   "metadata": {},
   "source": [
    "# Day 2015_16: Aunt Sue"
   ]
  },
  {
   "cell_type": "code",
   "execution_count": null,
   "id": "e7ba6dbf",
   "metadata": {},
   "outputs": [],
   "source": [
    "year = 2015\n",
    "day  = 16"
   ]
  },
  {
   "cell_type": "code",
   "execution_count": null,
   "id": "93f010b0",
   "metadata": {},
   "outputs": [],
   "source": [
    "from local_settings import load_input\n",
    "content = load_input(year, day)\n",
    "print(f\"[{content[:100]}...]\")"
   ]
  },
  {
   "cell_type": "markdown",
   "id": "ee4d99ce",
   "metadata": {},
   "source": [
    "# Part 1"
   ]
  },
  {
   "cell_type": "code",
   "execution_count": null,
   "id": "ff6d3434",
   "metadata": {},
   "outputs": [],
   "source": [
    "from operator import eq, gt, lt\n",
    "\n",
    "def parseSues(s):\n",
    "    sues = dict()\n",
    "    for line in s.splitlines():\n",
    "        tokens = line.split()\n",
    "        sueNr = int(tokens[1][:-1])\n",
    "        sues[sueNr] = dict()\n",
    "        for name, number in zip(tokens[2::2], tokens[3::2]):\n",
    "            name = name[:-1]\n",
    "            if number[-1] == ',':\n",
    "                number = number[:-1]\n",
    "            number = int(number)\n",
    "            sues[sueNr][name] = number\n",
    "    return sues\n",
    "\n",
    "def matchSue(sue, rules):\n",
    "    for op, name, number in rules:\n",
    "        if name in sue and not op(sue[name], number):\n",
    "            return False\n",
    "    return True\n",
    "\n",
    "def matchSues(sues, rules):\n",
    "    return [key for key, value in sues.items() if matchSue(value, rules)]"
   ]
  },
  {
   "cell_type": "markdown",
   "id": "e749ac16",
   "metadata": {},
   "source": [
    "## Examples:\n",
    "```\n",
    "```"
   ]
  },
  {
   "cell_type": "code",
   "execution_count": null,
   "id": "f07bd207",
   "metadata": {},
   "outputs": [],
   "source": [
    "rules = [(eq, \"children\", 3),\n",
    "         (eq, \"cats\", 7),\n",
    "         (eq, \"samoyeds\", 2),\n",
    "         (eq, \"pomeranians\", 3),\n",
    "         (eq, \"akitas\", 0),\n",
    "         (eq, \"vizslas\", 0),\n",
    "         (eq, \"goldfish\", 5),\n",
    "         (eq, \"trees\", 3),\n",
    "         (eq, \"cars\", 2),\n",
    "         (eq, \"perfumes\", 1)]\n",
    "\n",
    "print(matchSues(parseSues(content), rules))"
   ]
  },
  {
   "cell_type": "markdown",
   "id": "63f34142",
   "metadata": {},
   "source": [
    "# Part 2"
   ]
  },
  {
   "cell_type": "markdown",
   "id": "380d3358",
   "metadata": {},
   "source": [
    "## Examples:\n",
    "```\n",
    "```"
   ]
  },
  {
   "cell_type": "code",
   "execution_count": null,
   "id": "bd02cfbc",
   "metadata": {},
   "outputs": [],
   "source": [
    "rules = [(eq, \"children\", 3),\n",
    "         (gt, \"cats\", 7),\n",
    "         (eq, \"samoyeds\", 2),\n",
    "         (lt, \"pomeranians\", 3),\n",
    "         (eq, \"akitas\", 0),\n",
    "         (eq, \"vizslas\", 0),\n",
    "         (lt, \"goldfish\", 5),\n",
    "         (gt, \"trees\", 3),\n",
    "         (eq, \"cars\", 2),\n",
    "         (eq, \"perfumes\", 1)]\n",
    "\n",
    "print(matchSues(parseSues(content), rules))"
   ]
  }
 ],
 "metadata": {
  "kernelspec": {
   "display_name": "Python 3.9.12 ('base')",
   "language": "python",
   "name": "python3"
  },
  "language_info": {
   "codemirror_mode": {
    "name": "ipython",
    "version": 3
   },
   "file_extension": ".py",
   "mimetype": "text/x-python",
   "name": "python",
   "nbconvert_exporter": "python",
   "pygments_lexer": "ipython3",
   "version": "3.9.12"
  },
  "vscode": {
   "interpreter": {
    "hash": "26b41e701b9231918f8329cfe003d300e3582e92b2efa9bd361dfdb186f62974"
   }
  }
 },
 "nbformat": 4,
 "nbformat_minor": 5
}
