{
 "cells": [
  {
   "cell_type": "markdown",
   "id": "0f863bc7",
   "metadata": {},
   "source": [
    "# Day 2015_17: No Such Thing as Too Much"
   ]
  },
  {
   "cell_type": "code",
   "execution_count": null,
   "id": "e7ba6dbf",
   "metadata": {},
   "outputs": [],
   "source": [
    "year = 2015\n",
    "day  = 17"
   ]
  },
  {
   "cell_type": "code",
   "execution_count": null,
   "id": "93f010b0",
   "metadata": {},
   "outputs": [],
   "source": [
    "from local_settings import load_input\n",
    "content = load_input(year, day)\n",
    "print(f\"[{content[:100]}...]\")"
   ]
  },
  {
   "cell_type": "markdown",
   "id": "ee4d99ce",
   "metadata": {},
   "source": [
    "# Part 1"
   ]
  },
  {
   "cell_type": "code",
   "execution_count": null,
   "id": "854ed606",
   "metadata": {},
   "outputs": [],
   "source": [
    "def parseContainers(s):\n",
    "    return sorted((int(cont) for cont in s.splitlines()), reverse=True)\n",
    "\n",
    "def fillContainers(conts, amount):\n",
    "    if amount < 0:\n",
    "        return 0\n",
    "    if amount == 0:\n",
    "        return 1\n",
    "    if len(conts) == 0:\n",
    "        return 0\n",
    "    return sum((fillContainers(conts[i + 1:], amount - conts[i]) for i in range(len(conts))))"
   ]
  },
  {
   "cell_type": "markdown",
   "id": "e749ac16",
   "metadata": {},
   "source": [
    "## Examples:\n",
    "```\n",
    "For example, suppose you have containers of size 20, 15, 10, 5, and 5 liters. If you need to store 25 liters, there are four ways to do it:\n",
    "\n",
    "15 and 10\n",
    "20 and 5 (the first 5)\n",
    "20 and 5 (the second 5)\n",
    "15, 5, and 5\n",
    "```"
   ]
  },
  {
   "cell_type": "code",
   "execution_count": null,
   "id": "f453b6e5",
   "metadata": {},
   "outputs": [],
   "source": [
    "print(fillContainers([20, 15, 10, 5, 5], 25))"
   ]
  },
  {
   "cell_type": "code",
   "execution_count": null,
   "id": "0a4f31ad",
   "metadata": {},
   "outputs": [],
   "source": [
    "print(fillContainers(parseContainers(content), 150))"
   ]
  },
  {
   "cell_type": "markdown",
   "id": "63f34142",
   "metadata": {},
   "source": [
    "# Part 2"
   ]
  },
  {
   "cell_type": "code",
   "execution_count": null,
   "id": "28133646",
   "metadata": {},
   "outputs": [],
   "source": [
    "def findMinContainers(conts, amount):\n",
    "    if amount < 0:\n",
    "        return 100000\n",
    "    if amount == 0:\n",
    "        return 0\n",
    "    if len(conts) == 0:\n",
    "        return 100000\n",
    "    return 1 + min((findMinContainers(conts[i + 1:], amount - conts[i]) for i in range(len(conts))))\n",
    "\n",
    "def findFillMinContainers(conts, amount, minCont):\n",
    "    if amount < 0:\n",
    "        return 0\n",
    "    if amount == 0:\n",
    "        return int(minCont == 0)\n",
    "    if len(conts) == 0:\n",
    "        return 0\n",
    "    return sum((findFillMinContainers(conts[i + 1:], amount - conts[i], minCont - 1) for i in range(len(conts))))"
   ]
  },
  {
   "cell_type": "markdown",
   "id": "380d3358",
   "metadata": {},
   "source": [
    "## Examples:\n",
    "```\n",
    "In the example above, the minimum number of containers was two. There were three ways to use that many containers, and so the answer there would be 3.\n",
    "```"
   ]
  },
  {
   "cell_type": "code",
   "execution_count": null,
   "id": "c1490dfb",
   "metadata": {},
   "outputs": [],
   "source": [
    "print(findFillMinContainers([20, 15, 10, 5, 5], \n",
    "                            25,\n",
    "                            findMinContainers([20, 15, 10, 5, 5], 25)))"
   ]
  },
  {
   "cell_type": "code",
   "execution_count": null,
   "id": "e1275de7",
   "metadata": {},
   "outputs": [],
   "source": [
    "containers = parseContainers(content)\n",
    "print(findFillMinContainers(containers, \n",
    "                            150,\n",
    "                            findMinContainers(containers, 150)))"
   ]
  }
 ],
 "metadata": {
  "kernelspec": {
   "display_name": "Python 3.9.12 ('base')",
   "language": "python",
   "name": "python3"
  },
  "language_info": {
   "codemirror_mode": {
    "name": "ipython",
    "version": 3
   },
   "file_extension": ".py",
   "mimetype": "text/x-python",
   "name": "python",
   "nbconvert_exporter": "python",
   "pygments_lexer": "ipython3",
   "version": "3.9.12"
  },
  "vscode": {
   "interpreter": {
    "hash": "26b41e701b9231918f8329cfe003d300e3582e92b2efa9bd361dfdb186f62974"
   }
  }
 },
 "nbformat": 4,
 "nbformat_minor": 5
}
