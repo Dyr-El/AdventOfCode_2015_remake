{
 "cells": [
  {
   "cell_type": "markdown",
   "id": "0f863bc7",
   "metadata": {},
   "source": [
    "# Day 2015_19: Medicine for Rudolph"
   ]
  },
  {
   "cell_type": "code",
   "execution_count": null,
   "id": "e7ba6dbf",
   "metadata": {},
   "outputs": [],
   "source": [
    "year = 2015\n",
    "day  = 19"
   ]
  },
  {
   "cell_type": "code",
   "execution_count": null,
   "id": "93f010b0",
   "metadata": {},
   "outputs": [],
   "source": [
    "from local_settings import load_input\n",
    "content = load_input(year, day)\n",
    "print(f\"[{content[:100]}...]\")"
   ]
  },
  {
   "cell_type": "markdown",
   "id": "ee4d99ce",
   "metadata": {},
   "source": [
    "# Part 1"
   ]
  },
  {
   "cell_type": "code",
   "execution_count": null,
   "id": "6a7fb3c6",
   "metadata": {},
   "outputs": [],
   "source": [
    "def parseInput(s):\n",
    "    lines = s.splitlines()\n",
    "    transforms = [(src, dst) \n",
    "                  for (src, _, dst) in [tuple(line.split()) for line in lines[:-2]]]\n",
    "    return transforms, lines[-1]\n",
    "\n",
    "def applyTransform(s, trx):\n",
    "    pos = 0\n",
    "    while True:\n",
    "        pos = s.find(trx[0], pos)\n",
    "        if pos < 0:\n",
    "            break\n",
    "        yield s[:pos] + trx[1] + s[pos + len(trx[0]):]\n",
    "        pos += 1\n",
    "\n",
    "def applyAllTransform(s, transforms):\n",
    "    molecules = set()\n",
    "    for transform in transforms:\n",
    "        for molecule in applyTransform(s, transform):\n",
    "            molecules.add(molecule)\n",
    "    return molecules"
   ]
  },
  {
   "cell_type": "markdown",
   "id": "e749ac16",
   "metadata": {},
   "source": [
    "## Examples:\n",
    "```\n",
    "H => HO\n",
    "H => OH\n",
    "O => HH\n",
    "```"
   ]
  },
  {
   "cell_type": "code",
   "execution_count": null,
   "id": "296dd223",
   "metadata": {},
   "outputs": [],
   "source": [
    "example = \"\"\"H => HO\n",
    "H => OH\n",
    "O => HH\n",
    "\n",
    "HOH\"\"\"\n",
    "transforms, start = parseInput(example)\n",
    "print(len(applyAllTransform(start, transforms)))"
   ]
  },
  {
   "cell_type": "code",
   "execution_count": null,
   "id": "5d07d6f0",
   "metadata": {},
   "outputs": [],
   "source": [
    "transforms, start = parseInput(content)\n",
    "print(len(applyAllTransform(start, transforms)))"
   ]
  },
  {
   "cell_type": "markdown",
   "id": "63f34142",
   "metadata": {},
   "source": [
    "# Part 2"
   ]
  },
  {
   "cell_type": "code",
   "execution_count": null,
   "id": "3dd19ccf",
   "metadata": {},
   "outputs": [],
   "source": [
    "from collections import deque\n",
    "\n",
    "def reverseTransforms(transforms):\n",
    "    transforms = sorted([(len(b), b, a) for (a, b) in transforms], reverse=True)\n",
    "    return [(a, b) for (_, a, b) in transforms]\n",
    "\n",
    "def findElectron(start, transforms):\n",
    "    foundMolecules = {start: 0}\n",
    "    remainingMolecules = deque([start])\n",
    "    revTransforms = reverseTransforms(transforms)\n",
    "    while 'e' not in foundMolecules:\n",
    "        molecule = remainingMolecules.pop()\n",
    "        for newMolecule in applyAllTransform(molecule, revTransforms):\n",
    "            if newMolecule.count('e') >= 1 and newMolecule != 'e':\n",
    "                continue\n",
    "            if newMolecule not in foundMolecules:\n",
    "                foundMolecules[newMolecule] = foundMolecules[molecule] + 1\n",
    "                remainingMolecules.append(newMolecule)\n",
    "                break\n",
    "    return foundMolecules['e']"
   ]
  },
  {
   "cell_type": "markdown",
   "id": "380d3358",
   "metadata": {},
   "source": [
    "## Examples:\n",
    "```\n",
    "e => H\n",
    "e => O\n",
    "H => HO\n",
    "H => OH\n",
    "O => HH\n",
    "```"
   ]
  },
  {
   "cell_type": "code",
   "execution_count": null,
   "id": "f9dcf531",
   "metadata": {},
   "outputs": [],
   "source": [
    "example = \"\"\"e => H\n",
    "e => O\n",
    "H => HO\n",
    "H => OH\n",
    "O => HH\n",
    "\n",
    "HOH\"\"\"\n",
    "example2 = \"\"\"e => H\n",
    "e => O\n",
    "H => HO\n",
    "H => OH\n",
    "O => HH\n",
    "\n",
    "HOHOHO\"\"\"\n",
    "transforms, start = parseInput(example)\n",
    "print(findElectron(start, transforms))\n",
    "transforms, start = parseInput(example2)\n",
    "print(findElectron(start, transforms))"
   ]
  },
  {
   "cell_type": "code",
   "execution_count": null,
   "id": "21d311f1",
   "metadata": {},
   "outputs": [],
   "source": [
    "transforms, start = parseInput(content)\n",
    "print(findElectron(start, transforms))"
   ]
  }
 ],
 "metadata": {
  "kernelspec": {
   "display_name": "Python 3.9.12 ('base')",
   "language": "python",
   "name": "python3"
  },
  "language_info": {
   "codemirror_mode": {
    "name": "ipython",
    "version": 3
   },
   "file_extension": ".py",
   "mimetype": "text/x-python",
   "name": "python",
   "nbconvert_exporter": "python",
   "pygments_lexer": "ipython3",
   "version": "3.9.12"
  },
  "vscode": {
   "interpreter": {
    "hash": "26b41e701b9231918f8329cfe003d300e3582e92b2efa9bd361dfdb186f62974"
   }
  }
 },
 "nbformat": 4,
 "nbformat_minor": 5
}
