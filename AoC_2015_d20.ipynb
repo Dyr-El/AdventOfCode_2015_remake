{
 "cells": [
  {
   "cell_type": "markdown",
   "id": "0f863bc7",
   "metadata": {},
   "source": [
    "# Day 2015_20: Infinite Elves and Infinite Houses"
   ]
  },
  {
   "cell_type": "code",
   "execution_count": null,
   "id": "e7ba6dbf",
   "metadata": {},
   "outputs": [],
   "source": [
    "year = 2015\n",
    "day  = 20"
   ]
  },
  {
   "cell_type": "code",
   "execution_count": null,
   "id": "93f010b0",
   "metadata": {},
   "outputs": [],
   "source": [
    "from local_settings import load_input\n",
    "content = load_input(year, day)\n",
    "print(f\"[{content[:100]}...]\")"
   ]
  },
  {
   "cell_type": "markdown",
   "id": "ee4d99ce",
   "metadata": {},
   "source": [
    "# Part 1"
   ]
  },
  {
   "cell_type": "code",
   "execution_count": null,
   "id": "6a7fb3c6",
   "metadata": {},
   "outputs": [],
   "source": [
    "# definitions for first part of problem solution\n",
    "cachedDivisors = {1: {1}}\n",
    "def divisorsOf(n):\n",
    "    if n in cachedDivisors:\n",
    "        return cachedDivisors[n]\n",
    "    i = 2\n",
    "    while i * i <= n:\n",
    "        if n % i == 0:\n",
    "            l = divisorsOf(n // i)\n",
    "            l = l | {i * a for a in l}\n",
    "            cachedDivisors[n] = l\n",
    "            return l\n",
    "        if i == 2:\n",
    "            i = 3\n",
    "        else:\n",
    "            i += 2\n",
    "    cachedDivisors[n] = {1, n}\n",
    "    return cachedDivisors[n]\n",
    "\n",
    "def presentsForHouse(n):\n",
    "    return sum(divisorsOf(n)) * 10"
   ]
  },
  {
   "cell_type": "markdown",
   "id": "e749ac16",
   "metadata": {},
   "source": [
    "## Examples:\n",
    "```\n",
    "House 1 got 10 presents.\n",
    "House 2 got 30 presents.\n",
    "House 3 got 40 presents.\n",
    "House 4 got 70 presents.\n",
    "House 5 got 60 presents.\n",
    "House 6 got 120 presents.\n",
    "House 7 got 80 presents.\n",
    "House 8 got 150 presents.\n",
    "House 9 got 130 presents.\n",
    "```"
   ]
  },
  {
   "cell_type": "code",
   "execution_count": null,
   "id": "296dd223",
   "metadata": {},
   "outputs": [],
   "source": [
    "# testing the examples\n",
    "for i in range(1, 10):\n",
    "    print(f\"House {i} got {presentsForHouse(i)} presents.\")"
   ]
  },
  {
   "cell_type": "code",
   "execution_count": null,
   "id": "5d07d6f0",
   "metadata": {},
   "outputs": [],
   "source": [
    "# finding the solution\n",
    "content = 29000000\n",
    "from itertools import count\n",
    "for house in count(1):\n",
    "    if presentsForHouse(house) >= content:\n",
    "        print(f\"House {house} dit get {presentsForHouse(house)}\")\n",
    "        break"
   ]
  },
  {
   "cell_type": "markdown",
   "id": "63f34142",
   "metadata": {},
   "source": [
    "# Part 2"
   ]
  },
  {
   "cell_type": "code",
   "execution_count": null,
   "id": "3dd19ccf",
   "metadata": {},
   "outputs": [],
   "source": [
    "# definitions for second part of a problem solution\n",
    "cachedDivisors2 = {1: {1}}\n",
    "def divisorsOf2(n):\n",
    "    if n in cachedDivisors2:\n",
    "        return cachedDivisors2[n]\n",
    "    i = 2\n",
    "    while i * i <= n:\n",
    "        if n % i == 0:\n",
    "            l = divisorsOf2(n // i)\n",
    "            l = l | {i * a for a in l}\n",
    "            l = {a for a in l if n // a <= 50}\n",
    "            cachedDivisors2[n] = l\n",
    "            return l\n",
    "        if i == 2:\n",
    "            i = 3\n",
    "        else:\n",
    "            i += 2\n",
    "    if n <= 50:\n",
    "        cachedDivisors2[n] = {1, n}\n",
    "    else:\n",
    "        cachedDivisors2[n] = {n}\n",
    "    return cachedDivisors2[n]\n",
    "\n",
    "def presentsForHouse2(n):\n",
    "    return sum(divisorsOf2(n)) * 11"
   ]
  },
  {
   "cell_type": "markdown",
   "id": "380d3358",
   "metadata": {},
   "source": [
    "## Examples:\n",
    "```\n",
    "```"
   ]
  },
  {
   "cell_type": "code",
   "execution_count": null,
   "id": "f9dcf531",
   "metadata": {},
   "outputs": [],
   "source": [
    "# testing the examples"
   ]
  },
  {
   "cell_type": "code",
   "execution_count": null,
   "id": "21d311f1",
   "metadata": {},
   "outputs": [],
   "source": [
    "# finding the solution\n",
    "content = 29000000\n",
    "from itertools import count\n",
    "for house in count(1):\n",
    "    if presentsForHouse2(house) >= content:\n",
    "        print(f\"House {house} dit get {presentsForHouse2(house)}\")\n",
    "        break"
   ]
  }
 ],
 "metadata": {
  "kernelspec": {
   "display_name": "Python 3.9.12 ('base')",
   "language": "python",
   "name": "python3"
  },
  "language_info": {
   "codemirror_mode": {
    "name": "ipython",
    "version": 3
   },
   "file_extension": ".py",
   "mimetype": "text/x-python",
   "name": "python",
   "nbconvert_exporter": "python",
   "pygments_lexer": "ipython3",
   "version": "3.9.12"
  },
  "vscode": {
   "interpreter": {
    "hash": "26b41e701b9231918f8329cfe003d300e3582e92b2efa9bd361dfdb186f62974"
   }
  }
 },
 "nbformat": 4,
 "nbformat_minor": 5
}
