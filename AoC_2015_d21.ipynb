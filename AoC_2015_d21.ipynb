{
 "cells": [
  {
   "cell_type": "markdown",
   "id": "0f863bc7",
   "metadata": {},
   "source": [
    "# Day 2015_21: RPG Simulator 20XX"
   ]
  },
  {
   "cell_type": "code",
   "execution_count": 1,
   "id": "e7ba6dbf",
   "metadata": {},
   "outputs": [],
   "source": [
    "year = 2015\n",
    "day  = 21"
   ]
  },
  {
   "cell_type": "code",
   "execution_count": 2,
   "id": "93f010b0",
   "metadata": {},
   "outputs": [
    {
     "name": "stdout",
     "output_type": "stream",
     "text": [
      "Reading [https://adventofcode.com/2015/day/21/input]\n",
      " With proxy: [https: http://proxyseso.scania.com:8080]\n",
      " With proxy: [http: http://proxyseso.scania.com:8080]\n",
      "35 characters read.\n",
      "[Hit Points: 100\n",
      "Damage: 8\n",
      "Armor: 2\n",
      "...]\n"
     ]
    }
   ],
   "source": [
    "from local_settings import load_input\n",
    "content = load_input(year, day)\n",
    "print(f\"[{content[:100]}...]\")"
   ]
  },
  {
   "cell_type": "markdown",
   "id": "ee4d99ce",
   "metadata": {},
   "source": [
    "# Part 1"
   ]
  },
  {
   "cell_type": "code",
   "execution_count": 3,
   "id": "6a7fb3c6",
   "metadata": {},
   "outputs": [],
   "source": [
    "# definitions for first part of problem solution\n",
    "from itertools import combinations\n",
    "\n",
    "def parseBoss(s):\n",
    "    result = dict()\n",
    "    for line in s.splitlines():\n",
    "        prop, val = line.split(\":\")\n",
    "        result[prop.strip()] = int(val.strip())\n",
    "    return result\n",
    "\n",
    "def playerAlternatives(weapons, armors, rings):\n",
    "    for weapon in weapons:\n",
    "        for armor in armors:\n",
    "            for ring1, ring2 in combinations(rings, 2):\n",
    "                result =  {key: sum(((x[key] for x in (weapon, armor, ring1, ring2))))\n",
    "                           for key in (\"Cost\", \"Damage\", \"Armor\")}                \n",
    "                result[\"Hit Points\"] = 100\n",
    "                yield result\n",
    "\n",
    "weapons = [{\"Cost\":  8, \"Damage\": 4, \"Armor\": 0},\n",
    "           {\"Cost\": 10, \"Damage\": 5, \"Armor\": 0},\n",
    "           {\"Cost\": 25, \"Damage\": 6, \"Armor\": 0},\n",
    "           {\"Cost\": 40, \"Damage\": 7, \"Armor\": 0},\n",
    "           {\"Cost\": 74, \"Damage\": 8, \"Armor\": 0}]\n",
    "armors = [{\"Cost\": 0, \"Damage\": 0, \"Armor\": 0},\n",
    "           {\"Cost\": 13, \"Damage\": 0, \"Armor\": 1},\n",
    "           {\"Cost\": 31, \"Damage\": 0, \"Armor\": 2},\n",
    "           {\"Cost\": 53, \"Damage\": 0, \"Armor\": 3},\n",
    "           {\"Cost\": 75, \"Damage\": 0, \"Armor\": 4},\n",
    "           {\"Cost\": 102, \"Damage\": 0, \"Armor\": 5}]\n",
    "rings = [{\"Cost\": 0, \"Damage\": 0, \"Armor\": 0},\n",
    "         {\"Cost\": 0, \"Damage\": 0, \"Armor\": 0},\n",
    "           {\"Cost\": 25, \"Damage\": 1, \"Armor\": 0},\n",
    "           {\"Cost\": 50, \"Damage\": 2, \"Armor\": 0},\n",
    "           {\"Cost\": 100, \"Damage\": 3, \"Armor\": 0},\n",
    "           {\"Cost\": 20, \"Damage\": 0, \"Armor\": 1},\n",
    "           {\"Cost\": 40, \"Damage\": 0, \"Armor\": 2},\n",
    "           {\"Cost\": 80, \"Damage\": 0, \"Armor\": 3}]\n",
    "\n",
    "def fight(player, boss, trace=False):\n",
    "    php, bhp = player[\"Hit Points\"], boss[\"Hit Points\"]\n",
    "    if trace:\n",
    "        print(f\"Player: {php} Boss: {bhp}\")\n",
    "    while True:\n",
    "        bhp -= max(player[\"Damage\"] - boss[\"Armor\"], 1)\n",
    "        if trace:\n",
    "            print(f\"  Boss: {bhp}\")\n",
    "        if bhp <= 0:\n",
    "            if trace:\n",
    "                print(\"Player wins!\")\n",
    "            return True\n",
    "        php -= max(boss[\"Damage\"] - player[\"Armor\"], 1)\n",
    "        if trace:\n",
    "            print(f\"  Player: {php}\")\n",
    "        if php <= 0:\n",
    "            if trace:\n",
    "                print(\"Boss wins\")\n",
    "            return False"
   ]
  },
  {
   "cell_type": "markdown",
   "id": "e749ac16",
   "metadata": {},
   "source": [
    "## Examples:\n",
    "```\n",
    "The player deals 5-2 = 3 damage; the boss goes down to 9 hit points.\n",
    "The boss deals 7-5 = 2 damage; the player goes down to 6 hit points.\n",
    "The player deals 5-2 = 3 damage; the boss goes down to 6 hit points.\n",
    "The boss deals 7-5 = 2 damage; the player goes down to 4 hit points.\n",
    "The player deals 5-2 = 3 damage; the boss goes down to 3 hit points.\n",
    "The boss deals 7-5 = 2 damage; the player goes down to 2 hit points.\n",
    "The player deals 5-2 = 3 damage; the boss goes down to 0 hit points.\n",
    "```"
   ]
  },
  {
   "cell_type": "code",
   "execution_count": 4,
   "id": "296dd223",
   "metadata": {},
   "outputs": [
    {
     "name": "stdout",
     "output_type": "stream",
     "text": [
      "Player: 8 Boss: 12\n",
      "  Boss: 9\n",
      "  Player: 6\n",
      "  Boss: 6\n",
      "  Player: 4\n",
      "  Boss: 3\n",
      "  Player: 2\n",
      "  Boss: 0\n",
      "Player wins!\n",
      "Player wins\n"
     ]
    }
   ],
   "source": [
    "# testing the examples\n",
    "boss = {\"Hit Points\": 12, \"Damage\": 7, \"Armor\": 2}\n",
    "player = {\"Hit Points\": 8, \"Damage\": 5, \"Armor\": 5}\n",
    "if fight(player, boss, trace=True):\n",
    "    print(\"Player wins\")\n",
    "else:\n",
    "    print(\"Boss wins\")"
   ]
  },
  {
   "cell_type": "code",
   "execution_count": 5,
   "id": "5d07d6f0",
   "metadata": {},
   "outputs": [
    {
     "name": "stdout",
     "output_type": "stream",
     "text": [
      "91\n"
     ]
    }
   ],
   "source": [
    "# finding the solution\n",
    "boss = parseBoss(content)\n",
    "minCost = 1000\n",
    "for player in playerAlternatives(weapons, armors, rings):\n",
    "    if fight(player, boss):\n",
    "        minCost = min(minCost, player[\"Cost\"])\n",
    "print(minCost)"
   ]
  },
  {
   "cell_type": "markdown",
   "id": "63f34142",
   "metadata": {},
   "source": [
    "# Part 2"
   ]
  },
  {
   "cell_type": "code",
   "execution_count": 6,
   "id": "3dd19ccf",
   "metadata": {},
   "outputs": [],
   "source": [
    "# definitions for second part of a problem solution"
   ]
  },
  {
   "cell_type": "markdown",
   "id": "380d3358",
   "metadata": {},
   "source": [
    "## Examples:\n",
    "```\n",
    "```"
   ]
  },
  {
   "cell_type": "code",
   "execution_count": 7,
   "id": "f9dcf531",
   "metadata": {},
   "outputs": [],
   "source": [
    "# testing the examples"
   ]
  },
  {
   "cell_type": "code",
   "execution_count": 8,
   "id": "21d311f1",
   "metadata": {},
   "outputs": [
    {
     "name": "stdout",
     "output_type": "stream",
     "text": [
      "158\n"
     ]
    }
   ],
   "source": [
    "# finding the solution\n",
    "boss = parseBoss(content)\n",
    "maxCost = 0\n",
    "for player in playerAlternatives(weapons, armors, rings):\n",
    "    if not fight(player, boss):\n",
    "        maxCost = max(maxCost, player[\"Cost\"])\n",
    "print(maxCost)"
   ]
  },
  {
   "cell_type": "code",
   "execution_count": null,
   "id": "d5c4be67",
   "metadata": {},
   "outputs": [],
   "source": []
  }
 ],
 "metadata": {
  "kernelspec": {
   "display_name": "Python 3.9.12 ('base')",
   "language": "python",
   "name": "python3"
  },
  "language_info": {
   "codemirror_mode": {
    "name": "ipython",
    "version": 3
   },
   "file_extension": ".py",
   "mimetype": "text/x-python",
   "name": "python",
   "nbconvert_exporter": "python",
   "pygments_lexer": "ipython3",
   "version": "3.9.12"
  },
  "vscode": {
   "interpreter": {
    "hash": "26b41e701b9231918f8329cfe003d300e3582e92b2efa9bd361dfdb186f62974"
   }
  }
 },
 "nbformat": 4,
 "nbformat_minor": 5
}
