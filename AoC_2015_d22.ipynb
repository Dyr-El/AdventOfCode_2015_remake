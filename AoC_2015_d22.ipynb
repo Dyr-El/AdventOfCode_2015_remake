{
 "cells": [
  {
   "cell_type": "markdown",
   "id": "0f863bc7",
   "metadata": {},
   "source": [
    "# Day 2015_22: Wizard Simulator 20XX"
   ]
  },
  {
   "cell_type": "code",
   "execution_count": null,
   "id": "e7ba6dbf",
   "metadata": {},
   "outputs": [],
   "source": [
    "year = 2015\n",
    "day  = 22"
   ]
  },
  {
   "cell_type": "code",
   "execution_count": null,
   "id": "93f010b0",
   "metadata": {},
   "outputs": [],
   "source": [
    "from local_settings import load_input\n",
    "content = load_input(year, day)\n",
    "print(f\"[{content[:100]}...]\")"
   ]
  },
  {
   "cell_type": "markdown",
   "id": "ee4d99ce",
   "metadata": {},
   "source": [
    "# Part 1"
   ]
  },
  {
   "cell_type": "code",
   "execution_count": null,
   "id": "6a7fb3c6",
   "metadata": {},
   "outputs": [],
   "source": [
    "# definitions for first part of problem solution\n",
    "def parseBoss(s):\n",
    "    result = dict()\n",
    "    for line in s.splitlines():\n",
    "        prop, val = line.split(\":\")\n",
    "        result[prop.strip()] = int(val.strip())\n",
    "    return result\n",
    "\n",
    "class InvalidCast(RuntimeError):\n",
    "    def __init__(self, msg):\n",
    "        super().__init__(f\"Invalid cast: {msg}\")\n",
    "\n",
    "class BossDied(Exception):\n",
    "    def __init__(self):\n",
    "        super().__init__(\"Boss died\")\n",
    "\n",
    "class PlayerDied(Exception):\n",
    "    def __init__(self):\n",
    "        super().__init__(\"Player died\")\n",
    "\n",
    "def checkMana(player, boss):\n",
    "    if player[\"Mana\"] < 0:\n",
    "        raise InvalidCast(\"Out of mana\")\n",
    "\n",
    "def isActive(character, effect):\n",
    "    return character.get(effect, 0) > 0\n",
    "\n",
    "def checkEffect(character, effect):\n",
    "    if isActive(character, effect):\n",
    "        raise InvalidCast(\"Already in effect:\" + effect)\n",
    "\n",
    "def checkHP(player, boss):\n",
    "    if boss[\"Hit Points\"] <= 0:\n",
    "        raise BossDied()\n",
    "    if player[\"Hit Points\"] <= 0:\n",
    "        raise PlayerDied()\n",
    "\n",
    "def changeHP(player, boss, playerDelta, bossDelta):\n",
    "    player[\"Hit Points\"] += playerDelta\n",
    "    boss[\"Hit Points\"] += bossDelta\n",
    "    checkHP(player, boss)\n",
    "\n",
    "def changeMana(player, boss, deltaMana):\n",
    "    player[\"Mana\"] += deltaMana\n",
    "    checkMana(player, boss)\n",
    "\n",
    "def applyEffect(character, effect, time):\n",
    "    checkEffect(character, effect)\n",
    "    character[effect] = time\n",
    "\n",
    "def magicMissile(player, boss, mana):\n",
    "    changeMana(player, boss, -mana)\n",
    "    changeHP(player, boss, 0, -4)\n",
    "\n",
    "def drain(player, boss, mana):\n",
    "    changeMana(player, boss, -mana)\n",
    "    changeHP(player, boss, 2, -2)\n",
    "\n",
    "def shield(player, boss, mana):\n",
    "    applyEffect(player, \"Shield\", 6)\n",
    "    changeMana(player, boss, -mana)\n",
    "\n",
    "def poison(player, boss, mana):\n",
    "    applyEffect(boss, \"Poison\", 6)\n",
    "    changeMana(player, boss, -mana)\n",
    "\n",
    "def recharge(player, boss, mana):\n",
    "    applyEffect(player, \"Recharge\", 5)\n",
    "    changeMana(player, boss, -mana)\n",
    "\n",
    "spells = [(53, magicMissile, \"Magic Missile\"),\n",
    "          (73, drain, \"Drain\"),\n",
    "          (113, shield, \"Shield\"),\n",
    "          (173, poison, \"Poison\"),\n",
    "          (229, recharge, \"Recharge\")]\n",
    "\n",
    "def tickDown(character, effect):\n",
    "    if isActive(character, effect):\n",
    "        character[effect] -= 1\n",
    "        if not isActive(character, effect):\n",
    "            del character[effect]\n",
    "\n",
    "def tickShield(player, boss):\n",
    "    player[\"Armor\"] = 7 * int(isActive(player, \"Shield\"))\n",
    "    tickDown(player, \"Shield\")\n",
    "\n",
    "def tickPoison(player, boss):\n",
    "    changeHP(player, boss, 0, -3 * int(isActive(boss, \"Poison\")))\n",
    "    tickDown(boss, \"Poison\")\n",
    "\n",
    "def tickRecharge(player, boss):\n",
    "    changeMana(player, boss, 101 * int(isActive(player, \"Recharge\")))\n",
    "    tickDown(player, \"Recharge\")\n",
    "\n",
    "def tickEffects(player, boss):\n",
    "    tickShield(player, boss)\n",
    "    tickPoison(player, boss)\n",
    "    tickRecharge(player, boss)\n",
    "\n",
    "def attack(player, boss):\n",
    "    attackPower = max(boss[\"Damage\"] - player[\"Armor\"], 1)\n",
    "    changeHP(player, boss, -attackPower, 0)\n",
    "        \n",
    "from heapq import heapify, heappop, heappush\n",
    "\n",
    "def fight(player, boss, hardMode=False):\n",
    "    manaUsage = 0\n",
    "    count = 0\n",
    "    theHeap = [(manaUsage, count, player, boss, [])]\n",
    "    bestCost = 10**9\n",
    "    bestSpells = []\n",
    "    heapify(theHeap)\n",
    "    while theHeap:\n",
    "        manaUsage, _, player0, boss0, spellList = heappop(theHeap)\n",
    "        if manaUsage >= bestCost:\n",
    "            continue\n",
    "        # print(manaUsage, player0, boss0, spellList)\n",
    "        for spellcost, spell, spellName in spells:\n",
    "            player, boss = dict(player0), dict(boss0)\n",
    "            sCost = 0\n",
    "            try:\n",
    "                if hardMode:\n",
    "                    changeHP(player, boss, -1, 0)\n",
    "                tickEffects(player, boss)\n",
    "                sCost += spellcost\n",
    "                spell(player, boss, spellcost)\n",
    "                tickEffects(player, boss)\n",
    "                attack(player, boss)\n",
    "                # print(f\"  {spellName}: {player} {boss}\")\n",
    "            except PlayerDied:\n",
    "                # print(f\"  {spellName}: Player died! {player} {boss}\")\n",
    "                continue\n",
    "            except InvalidCast:\n",
    "                # print(f\"  {spellName}: Invalid cast! {player} {boss}\")\n",
    "                continue\n",
    "            except BossDied:\n",
    "                # print(f\"  {spellName}: Boss died! {player} {boss}\")\n",
    "                if sCost + manaUsage < bestCost:\n",
    "                    bestCost = sCost + manaUsage\n",
    "                    bestSpells = spellList + [spellName]\n",
    "            count += 1\n",
    "            heappush(theHeap, (sCost + manaUsage, count, player, boss, spellList + [spellName]))\n",
    "    return bestCost, bestSpells"
   ]
  },
  {
   "cell_type": "markdown",
   "id": "e749ac16",
   "metadata": {},
   "source": [
    "## Examples:\n",
    "```\n",
    "-- Player turn --\n",
    "- Player has 10 hit points, 0 armor, 250 mana\n",
    "- Boss has 13 hit points\n",
    "Player casts Poison.\n",
    "\n",
    "-- Boss turn --\n",
    "- Player has 10 hit points, 0 armor, 77 mana\n",
    "- Boss has 13 hit points\n",
    "Poison deals 3 damage; its timer is now 5.\n",
    "Boss attacks for 8 damage.\n",
    "\n",
    "-- Player turn --\n",
    "- Player has 2 hit points, 0 armor, 77 mana\n",
    "- Boss has 10 hit points\n",
    "Poison deals 3 damage; its timer is now 4.\n",
    "Player casts Magic Missile, dealing 4 damage.\n",
    "\n",
    "-- Boss turn --\n",
    "- Player has 2 hit points, 0 armor, 24 mana\n",
    "- Boss has 3 hit points\n",
    "Poison deals 3 damage. This kills the boss, and the player wins.\n",
    "```"
   ]
  },
  {
   "cell_type": "code",
   "execution_count": null,
   "id": "296dd223",
   "metadata": {},
   "outputs": [],
   "source": [
    "# testing the examples\n",
    "player = {\"Hit Points\": 10, \"Armor\": 0, \"Mana\": 250}\n",
    "boss = {\"Hit Points\": 13, \"Damage\": 8}\n",
    "mana, sequence = fight(player, boss)\n",
    "print(f\"Mana spent: {mana} [{', '.join(sequence)}]\")"
   ]
  },
  {
   "cell_type": "code",
   "execution_count": null,
   "id": "698297ad",
   "metadata": {},
   "outputs": [],
   "source": [
    "player = {\"Hit Points\": 10, \"Armor\": 0, \"Mana\": 250}\n",
    "boss = {\"Hit Points\": 14, \"Damage\": 8}\n",
    "mana, sequence = fight(player, boss)\n",
    "print(f\"Mana spent: {mana} [{', '.join(sequence)}]\")"
   ]
  },
  {
   "cell_type": "code",
   "execution_count": null,
   "id": "5d07d6f0",
   "metadata": {},
   "outputs": [],
   "source": [
    "# finding the solution\n",
    "def new_func():\n",
    "    boss = parseBoss(content)\n",
    "    player = {\"Mana\": 500, \"Hit Points\": 50, \"Armor\": 0}\n",
    "    mana, sequence = fight(player, boss)\n",
    "    print(f\"Mana spent: {mana} [{', '.join(sequence)}]\")\n",
    "\n",
    "new_func()"
   ]
  },
  {
   "cell_type": "markdown",
   "id": "63f34142",
   "metadata": {},
   "source": [
    "# Part 2"
   ]
  },
  {
   "cell_type": "code",
   "execution_count": null,
   "id": "3dd19ccf",
   "metadata": {},
   "outputs": [],
   "source": [
    "# definitions for second part of a problem solution"
   ]
  },
  {
   "cell_type": "markdown",
   "id": "380d3358",
   "metadata": {},
   "source": [
    "## Examples:\n",
    "```\n",
    "```"
   ]
  },
  {
   "cell_type": "code",
   "execution_count": null,
   "id": "f9dcf531",
   "metadata": {},
   "outputs": [],
   "source": [
    "# testing the examples"
   ]
  },
  {
   "cell_type": "code",
   "execution_count": null,
   "id": "21d311f1",
   "metadata": {},
   "outputs": [],
   "source": [
    "# finding the solution\n",
    "boss = parseBoss(content)\n",
    "player = {\"Mana\": 500, \"Hit Points\": 50, \"Armor\": 0}\n",
    "mana, sequence = fight(player, boss, hardMode=True)\n",
    "print(f\"Mana spent: {mana} [{', '.join(sequence)}]\")"
   ]
  }
 ],
 "metadata": {
  "kernelspec": {
   "display_name": "Python 3.9.12 ('base')",
   "language": "python",
   "name": "python3"
  },
  "language_info": {
   "codemirror_mode": {
    "name": "ipython",
    "version": 3
   },
   "file_extension": ".py",
   "mimetype": "text/x-python",
   "name": "python",
   "nbconvert_exporter": "python",
   "pygments_lexer": "ipython3",
   "version": "3.9.12"
  },
  "vscode": {
   "interpreter": {
    "hash": "26b41e701b9231918f8329cfe003d300e3582e92b2efa9bd361dfdb186f62974"
   }
  }
 },
 "nbformat": 4,
 "nbformat_minor": 5
}
