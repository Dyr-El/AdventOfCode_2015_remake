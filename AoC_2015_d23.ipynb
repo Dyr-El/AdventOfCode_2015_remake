{
 "cells": [
  {
   "cell_type": "markdown",
   "id": "0f863bc7",
   "metadata": {},
   "source": [
    "# Day 2015_23: Opening the Turing Lock"
   ]
  },
  {
   "cell_type": "code",
   "execution_count": null,
   "id": "e7ba6dbf",
   "metadata": {},
   "outputs": [],
   "source": [
    "year = 2015\n",
    "day  = 23"
   ]
  },
  {
   "cell_type": "code",
   "execution_count": null,
   "id": "93f010b0",
   "metadata": {},
   "outputs": [],
   "source": [
    "from local_settings import load_input\n",
    "content = load_input(year, day)\n",
    "print(f\"[{content[:100]}...]\")"
   ]
  },
  {
   "cell_type": "markdown",
   "id": "ee4d99ce",
   "metadata": {},
   "source": [
    "# Part 1"
   ]
  },
  {
   "cell_type": "code",
   "execution_count": null,
   "id": "6a7fb3c6",
   "metadata": {},
   "outputs": [],
   "source": [
    "# definitions for first part of problem solution\n",
    "def parseInstructions(s):\n",
    "    prog = list()\n",
    "    for line in s.splitlines():\n",
    "        tokens = tuple(line.split())\n",
    "        if len(tokens) == 2:\n",
    "            instr, reg = tokens\n",
    "            if instr == \"jmp\":\n",
    "                offset = int(reg)\n",
    "                reg = \"_\"\n",
    "            else:\n",
    "                offset = 1\n",
    "        if len(tokens) == 3:\n",
    "            instr, reg, offset = tokens\n",
    "            reg = reg[:-1]\n",
    "            offset = int(offset)\n",
    "        prog.append((instr, reg, offset))\n",
    "    return prog\n",
    "    \n",
    "def hlf(regs, reg, offset):\n",
    "    regs[reg] //= 2\n",
    "    regs[\"pc\"] += offset\n",
    "\n",
    "def tpl(regs, reg, offset):\n",
    "    regs[reg] *= 3\n",
    "    regs[\"pc\"] += offset\n",
    "\n",
    "def inc(regs, reg, offset):\n",
    "    regs[reg] += 1\n",
    "    regs[\"pc\"] += offset\n",
    "\n",
    "def jmp(regs, reg, offset):\n",
    "    regs[\"pc\"] += offset\n",
    "\n",
    "def jie(regs, reg, offset):\n",
    "    if regs[reg] % 2 == 0:\n",
    "        regs[\"pc\"] += offset\n",
    "    else:\n",
    "        regs[\"pc\"] += 1\n",
    "\n",
    "def jio(regs, reg, offset):\n",
    "    if regs[reg] == 1:\n",
    "        regs[\"pc\"] += offset\n",
    "    else:\n",
    "        regs[\"pc\"] += 1\n",
    "\n",
    "instructions = {\"hlf\": hlf, \"tpl\": tpl, \"inc\": inc, \"jmp\": jmp, \"jie\": jie, \"jio\": jio}\n",
    "\n",
    "def execute(prog, init_a=0, init_b=0):\n",
    "    regs = {\"pc\": 0, \"a\": init_a, \"b\": init_b}\n",
    "    while regs[\"pc\"] < len(prog):\n",
    "        instr, reg, offset = prog[regs[\"pc\"]]\n",
    "        # print(regs, instr, reg, offset)\n",
    "        instructions[instr](regs, reg, offset)\n",
    "    return regs"
   ]
  },
  {
   "cell_type": "markdown",
   "id": "e749ac16",
   "metadata": {},
   "source": [
    "## Examples:\n",
    "```\n",
    "inc a\n",
    "jio a, +2\n",
    "tpl a\n",
    "inc a\n",
    "```"
   ]
  },
  {
   "cell_type": "code",
   "execution_count": null,
   "id": "296dd223",
   "metadata": {},
   "outputs": [],
   "source": [
    "# testing the examples\n",
    "ex1 = \"\"\"inc a\n",
    "jio a, +2\n",
    "tpl a\n",
    "inc a\"\"\"\n",
    "prog = parseInstructions(ex1)\n",
    "regs = execute(prog)\n",
    "print(regs)"
   ]
  },
  {
   "cell_type": "code",
   "execution_count": null,
   "id": "5d07d6f0",
   "metadata": {},
   "outputs": [],
   "source": [
    "# finding the solution\n",
    "prog = parseInstructions(content)\n",
    "regs = execute(prog)\n",
    "print(regs[\"b\"])"
   ]
  },
  {
   "cell_type": "markdown",
   "id": "63f34142",
   "metadata": {},
   "source": [
    "# Part 2"
   ]
  },
  {
   "cell_type": "code",
   "execution_count": null,
   "id": "3dd19ccf",
   "metadata": {},
   "outputs": [],
   "source": [
    "# definitions for second part of a problem solution"
   ]
  },
  {
   "cell_type": "markdown",
   "id": "380d3358",
   "metadata": {},
   "source": [
    "## Examples:\n",
    "```\n",
    "```"
   ]
  },
  {
   "cell_type": "code",
   "execution_count": null,
   "id": "f9dcf531",
   "metadata": {},
   "outputs": [],
   "source": [
    "# testing the examples"
   ]
  },
  {
   "cell_type": "code",
   "execution_count": null,
   "id": "21d311f1",
   "metadata": {},
   "outputs": [],
   "source": [
    "# finding the solution\n",
    "prog = parseInstructions(content)\n",
    "regs = execute(prog, init_a=1)\n",
    "print(regs[\"b\"])"
   ]
  }
 ],
 "metadata": {
  "kernelspec": {
   "display_name": "Python 3.9.12 ('base')",
   "language": "python",
   "name": "python3"
  },
  "language_info": {
   "codemirror_mode": {
    "name": "ipython",
    "version": 3
   },
   "file_extension": ".py",
   "mimetype": "text/x-python",
   "name": "python",
   "nbconvert_exporter": "python",
   "pygments_lexer": "ipython3",
   "version": "3.9.12"
  },
  "vscode": {
   "interpreter": {
    "hash": "26b41e701b9231918f8329cfe003d300e3582e92b2efa9bd361dfdb186f62974"
   }
  }
 },
 "nbformat": 4,
 "nbformat_minor": 5
}
