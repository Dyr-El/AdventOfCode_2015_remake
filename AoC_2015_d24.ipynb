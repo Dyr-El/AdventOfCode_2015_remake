{
 "cells": [
  {
   "cell_type": "markdown",
   "id": "0f863bc7",
   "metadata": {},
   "source": [
    "# Day 2015_24: It Hangs in the Balance"
   ]
  },
  {
   "cell_type": "code",
   "execution_count": 1,
   "id": "e7ba6dbf",
   "metadata": {},
   "outputs": [],
   "source": [
    "year = 2015\n",
    "day  = 24"
   ]
  },
  {
   "cell_type": "code",
   "execution_count": 2,
   "id": "93f010b0",
   "metadata": {},
   "outputs": [
    {
     "name": "stdout",
     "output_type": "stream",
     "text": [
      "Reading [https://adventofcode.com/2015/day/24/input]\n",
      " With proxy: [https: http://proxyseso.scania.com:8080]\n",
      " With proxy: [http: http://proxyseso.scania.com:8080]\n",
      "88 characters read.\n",
      "[1\n",
      "2\n",
      "3\n",
      "7\n",
      "11\n",
      "13\n",
      "17\n",
      "19\n",
      "23\n",
      "31\n",
      "37\n",
      "41\n",
      "43\n",
      "47\n",
      "53\n",
      "59\n",
      "61\n",
      "67\n",
      "71\n",
      "73\n",
      "79\n",
      "83\n",
      "89\n",
      "97\n",
      "101\n",
      "103\n",
      "107\n",
      "109\n",
      "113\n",
      "...]\n"
     ]
    }
   ],
   "source": [
    "from local_settings import load_input\n",
    "content = load_input(year, day)\n",
    "print(f\"[{content[:100]}...]\")"
   ]
  },
  {
   "cell_type": "markdown",
   "id": "ee4d99ce",
   "metadata": {},
   "source": [
    "# Part 1"
   ]
  },
  {
   "cell_type": "code",
   "execution_count": 3,
   "id": "6a7fb3c6",
   "metadata": {},
   "outputs": [],
   "source": [
    "# definitions for first part of problem solution\n",
    "from functools import reduce\n",
    "from operator import mul\n",
    "\n",
    "\n",
    "def parsePackages(s):\n",
    "    return [int(p) for p in s.splitlines()]\n",
    "\n",
    "def findDivisions(packageWeights, weight):\n",
    "    if weight == 0:\n",
    "        yield []\n",
    "    elif packageWeights:\n",
    "        minLength = len(packageWeights)\n",
    "        for idx in range(0, len(packageWeights)):\n",
    "            first = packageWeights[idx]\n",
    "            if first > weight or first * minLength < weight:\n",
    "                continue\n",
    "            rest = packageWeights[idx+1:]\n",
    "            for division in findDivisions(rest, weight - first):\n",
    "                divisionLength = len(division) + 1\n",
    "                if divisionLength <= minLength:\n",
    "                    minLength = divisionLength\n",
    "                    yield [first] + division\n",
    "\n",
    "def findLowestQE(packages, noParts):\n",
    "    packages = sorted(packages, reverse=True)\n",
    "    bestNoAndQE = min(((len(division), reduce(mul, division)) \n",
    "                       for division in findDivisions(packages, sum(packages) // noParts)))\n",
    "    return bestNoAndQE[1]\n"
   ]
  },
  {
   "cell_type": "markdown",
   "id": "e749ac16",
   "metadata": {},
   "source": [
    "## Examples:\n",
    "```\n",
    "Group 1;             Group 2; Group 3\n",
    "11 9       (QE= 99); 10 8 2;  7 5 4 3 1\n",
    "10 9 1     (QE= 90); 11 7 2;  8 5 4 3\n",
    "10 8 2     (QE=160); 11 9;    7 5 4 3 1\n",
    "10 7 3     (QE=210); 11 9;    8 5 4 2 1\n",
    "10 5 4 1   (QE=200); 11 9;    8 7 3 2\n",
    "10 5 3 2   (QE=300); 11 9;    8 7 4 1\n",
    "10 4 3 2 1 (QE=240); 11 9;    8 7 5\n",
    "9 8 3      (QE=216); 11 7 2;  10 5 4 1\n",
    "9 7 4      (QE=252); 11 8 1;  10 5 3 2\n",
    "9 5 4 2    (QE=360); 11 8 1;  10 7 3\n",
    "8 7 5      (QE=280); 11 9;    10 4 3 2 1\n",
    "8 5 4 3    (QE=480); 11 9;    10 7 2 1\n",
    "7 5 4 3 1  (QE=420); 11 9;    10 8 2\n",
    "```"
   ]
  },
  {
   "cell_type": "code",
   "execution_count": 4,
   "id": "296dd223",
   "metadata": {},
   "outputs": [
    {
     "name": "stdout",
     "output_type": "stream",
     "text": [
      "Example: QE = 99\n"
     ]
    }
   ],
   "source": [
    "# testing the examples\n",
    "ex1 = sorted((x for x in range(1, 12) if x != 6), reverse=True)\n",
    "print(f\"Example: QE = {findLowestQE(ex1, 3)}\")"
   ]
  },
  {
   "cell_type": "code",
   "execution_count": 5,
   "id": "5d07d6f0",
   "metadata": {},
   "outputs": [
    {
     "name": "stdout",
     "output_type": "stream",
     "text": [
      "Solution: QE = 11846773891\n"
     ]
    }
   ],
   "source": [
    "# finding the solution\n",
    "inp = parsePackages(content)\n",
    "print(f\"Solution: QE = {findLowestQE(inp, 3)}\")"
   ]
  },
  {
   "cell_type": "markdown",
   "id": "63f34142",
   "metadata": {},
   "source": [
    "# Part 2"
   ]
  },
  {
   "cell_type": "code",
   "execution_count": 6,
   "id": "3dd19ccf",
   "metadata": {},
   "outputs": [],
   "source": [
    "# definitions for second part of a problem solution"
   ]
  },
  {
   "cell_type": "markdown",
   "id": "380d3358",
   "metadata": {},
   "source": [
    "## Examples:\n",
    "```\n",
    "```"
   ]
  },
  {
   "cell_type": "code",
   "execution_count": 7,
   "id": "f9dcf531",
   "metadata": {},
   "outputs": [
    {
     "name": "stdout",
     "output_type": "stream",
     "text": [
      "Example: QE = 44\n"
     ]
    }
   ],
   "source": [
    "# testing the examples\n",
    "print(f\"Example: QE = {findLowestQE(ex1, 4)}\")"
   ]
  },
  {
   "cell_type": "code",
   "execution_count": 8,
   "id": "21d311f1",
   "metadata": {},
   "outputs": [
    {
     "name": "stdout",
     "output_type": "stream",
     "text": [
      "Solution: QE = 80393059\n"
     ]
    }
   ],
   "source": [
    "# finding the solution\n",
    "print(f\"Solution: QE = {findLowestQE(inp, 4)}\")"
   ]
  }
 ],
 "metadata": {
  "kernelspec": {
   "display_name": "Python 3.9.12 ('base')",
   "language": "python",
   "name": "python3"
  },
  "language_info": {
   "codemirror_mode": {
    "name": "ipython",
    "version": 3
   },
   "file_extension": ".py",
   "mimetype": "text/x-python",
   "name": "python",
   "nbconvert_exporter": "python",
   "pygments_lexer": "ipython3",
   "version": "3.9.12"
  },
  "vscode": {
   "interpreter": {
    "hash": "26b41e701b9231918f8329cfe003d300e3582e92b2efa9bd361dfdb186f62974"
   }
  }
 },
 "nbformat": 4,
 "nbformat_minor": 5
}
