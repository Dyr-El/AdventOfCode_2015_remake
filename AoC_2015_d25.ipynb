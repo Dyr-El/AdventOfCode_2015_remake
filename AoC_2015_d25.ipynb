{
 "cells": [
  {
   "cell_type": "markdown",
   "id": "0f863bc7",
   "metadata": {},
   "source": [
    "# Day 2015_25: Let It Snow"
   ]
  },
  {
   "cell_type": "code",
   "execution_count": 1,
   "id": "e7ba6dbf",
   "metadata": {},
   "outputs": [],
   "source": [
    "year = 2015\n",
    "day  = 25"
   ]
  },
  {
   "cell_type": "code",
   "execution_count": 2,
   "id": "93f010b0",
   "metadata": {},
   "outputs": [
    {
     "name": "stdout",
     "output_type": "stream",
     "text": [
      "Reading [https://adventofcode.com/2015/day/25/input]\n",
      " With proxy: [https: http://proxyseso.scania.com:8080]\n",
      " With proxy: [http: http://proxyseso.scania.com:8080]\n",
      "99 characters read.\n",
      "[To continue, please consult the code grid in the manual.  Enter the code at row 2978, column 3083.\n",
      "...]\n"
     ]
    }
   ],
   "source": [
    "from local_settings import load_input\n",
    "content = load_input(year, day)\n",
    "print(f\"[{content[:100]}...]\")"
   ]
  },
  {
   "cell_type": "markdown",
   "id": "ee4d99ce",
   "metadata": {},
   "source": [
    "# Part 1"
   ]
  },
  {
   "cell_type": "code",
   "execution_count": 3,
   "id": "6a7fb3c6",
   "metadata": {},
   "outputs": [],
   "source": [
    "# definitions for first part of problem solution\n",
    "def parseRowAndCol(s):\n",
    "    tokens = s.split()\n",
    "    row = [int(token2[:-1])\n",
    "           for token1, token2 in zip(tokens, tokens[1:])\n",
    "           if token1 == \"row\"]\n",
    "    col = [int(token2[:-1])\n",
    "           for token1, token2 in zip(tokens, tokens[1:])\n",
    "           if token1 == \"column\"]\n",
    "    return row[0], col[0]\n",
    "\n",
    "def calcNumber(row, col):\n",
    "    return (row + col - 2) * (row + col - 1) // 2 + col\n",
    "\n",
    "def calculateModPower(b, e, m):\n",
    "    if e == 0:\n",
    "        return 1\n",
    "    elif e == 1:\n",
    "        return b % m\n",
    "    else:\n",
    "        return ((calculateModPower(b, e // 2, m) ** 2) * calculateModPower(b, e % 2, m)) % m\n"
   ]
  },
  {
   "cell_type": "markdown",
   "id": "e749ac16",
   "metadata": {},
   "source": [
    "## Examples:\n",
    "```\n",
    "   |    1         2         3         4         5         6\n",
    "---+---------+---------+---------+---------+---------+---------+\n",
    " 1 | 20151125  18749137  17289845  30943339  10071777  33511524\n",
    " 2 | 31916031  21629792  16929656   7726640  15514188   4041754\n",
    " 3 | 16080970   8057251   1601130   7981243  11661866  16474243\n",
    " 4 | 24592653  32451966  21345942   9380097  10600672  31527494\n",
    " 5 |    77061  17552253  28094349   6899651   9250759  31663883\n",
    " 6 | 33071741   6796745  25397450  24659492   1534922  27995004\n",
    "```"
   ]
  },
  {
   "cell_type": "code",
   "execution_count": 4,
   "id": "296dd223",
   "metadata": {},
   "outputs": [
    {
     "name": "stdout",
     "output_type": "stream",
     "text": [
      "1,1: 20151125\n",
      "1,2: 18749137\n",
      "1,3: 17289845\n",
      "1,4: 30943339\n",
      "2,1: 31916031\n",
      "2,2: 21629792\n",
      "2,3: 16929656\n",
      "2,4: 7726640\n",
      "3,1: 16080970\n",
      "3,2: 8057251\n",
      "3,3: 1601130\n",
      "3,4: 7981243\n",
      "4,1: 24592653\n",
      "4,2: 32451966\n",
      "4,3: 21345942\n",
      "4,4: 9380097\n"
     ]
    }
   ],
   "source": [
    "# testing the examples\n",
    "for row in range(1, 5):\n",
    "    for col in range(1, 5):\n",
    "        print(f\"{row},{col}: {(20151125 * calculateModPower(252533, calcNumber(row, col) - 1, 33554393)) % 33554393}\")"
   ]
  },
  {
   "cell_type": "code",
   "execution_count": 5,
   "id": "5d07d6f0",
   "metadata": {},
   "outputs": [
    {
     "name": "stdout",
     "output_type": "stream",
     "text": [
      "2978,3083: 2650453\n"
     ]
    }
   ],
   "source": [
    "# finding the solution\n",
    "r, c = parseRowAndCol(content)\n",
    "print(f\"{r},{c}: {(20151125 * calculateModPower(252533, calcNumber(r, c) - 1, 33554393)) % 33554393}\")"
   ]
  },
  {
   "cell_type": "markdown",
   "id": "63f34142",
   "metadata": {},
   "source": [
    "# Part 2"
   ]
  },
  {
   "cell_type": "code",
   "execution_count": 6,
   "id": "3dd19ccf",
   "metadata": {},
   "outputs": [],
   "source": [
    "# definitions for second part of a problem solution"
   ]
  },
  {
   "cell_type": "markdown",
   "id": "380d3358",
   "metadata": {},
   "source": [
    "## Examples:\n",
    "```\n",
    "```"
   ]
  },
  {
   "cell_type": "code",
   "execution_count": 7,
   "id": "f9dcf531",
   "metadata": {},
   "outputs": [],
   "source": [
    "# testing the examples"
   ]
  },
  {
   "cell_type": "code",
   "execution_count": 8,
   "id": "21d311f1",
   "metadata": {},
   "outputs": [],
   "source": [
    "# finding the solution\n"
   ]
  }
 ],
 "metadata": {
  "kernelspec": {
   "display_name": "Python 3.9.12 ('base')",
   "language": "python",
   "name": "python3"
  },
  "language_info": {
   "codemirror_mode": {
    "name": "ipython",
    "version": 3
   },
   "file_extension": ".py",
   "mimetype": "text/x-python",
   "name": "python",
   "nbconvert_exporter": "python",
   "pygments_lexer": "ipython3",
   "version": "3.9.12"
  },
  "vscode": {
   "interpreter": {
    "hash": "26b41e701b9231918f8329cfe003d300e3582e92b2efa9bd361dfdb186f62974"
   }
  }
 },
 "nbformat": 4,
 "nbformat_minor": 5
}
